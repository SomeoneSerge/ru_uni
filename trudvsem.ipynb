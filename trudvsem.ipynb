{
 "cells": [
  {
   "cell_type": "code",
   "execution_count": 1,
   "metadata": {},
   "outputs": [],
   "source": [
    "%run common.ipynb"
   ]
  },
  {
   "cell_type": "code",
   "execution_count": 61,
   "metadata": {},
   "outputs": [],
   "source": [
    "import xml.etree.ElementTree as ET\n",
    "import urllib"
   ]
  },
  {
   "cell_type": "code",
   "execution_count": 62,
   "metadata": {},
   "outputs": [
    {
     "name": "stderr",
     "output_type": "stream",
     "text": [
      "8289it [00:00, 456314.29it/s]\n"
     ]
    }
   ],
   "source": [
    "import sqlite3\n",
    "\n",
    "con = sqlite3.connect('programs.db')\n",
    "okpdtr_to_prog = dict(tqdm.tqdm(con.execute('select okpdtr.okpdtr, p.name from programs p left join program_okpdtr okpdtr on p.id=okpdtr.program')))\n",
    "con.close()"
   ]
  },
  {
   "cell_type": "code",
   "execution_count": 65,
   "metadata": {},
   "outputs": [
    {
     "name": "stdout",
     "output_type": "stream",
     "text": [
      "('Биотехнология', '271421', 'Технолог', ['в соотвествии с должностной инструкцией для профессии расчетчик-технолог'])\n",
      "('Экономика', '272443', 'Учитель', ['Планирует и осуществляет учебный процесс в соответствии с образовательной программой образовательного учреждения, разрабатывает рабочую программу по предмету'])\n",
      "('Экономика', '272443', 'Учитель', ['Планирует и осуществляет учебный процесс в соответствии с образовательной программой образовательного учреждения, разрабатывает рабочую программу по предмету'])\n",
      "('Экономика', '272443', 'Учитель', ['Планирует и осуществляет учебный процесс в соответствии с образовательной программой образовательного учреждения, разрабатывает рабочую программу по предмету'])\n",
      "('Промышленное рыболовство', '224469', 'Инженер', ['Выполняет разработку проектов ЗСО (зон санитарной охраны) и СЗЗ (санитарно-защитных зон), составление экологической и гидрогеологической отчетности.'])\n",
      "('Системный анализ и управление', '210659', 'Государственный инспектор по охране леса', ['Знание Лесного Кодекса РФ, основных требований законодательства в сфере охраны природы и  рационального использования лесных ресурсов'])\n",
      "('Энерго- и ресурсосберегающие процессы в химической технологии, нефтехимии и биотехнологии', '239981', 'Мастер участка', ['Проверяет составляемые лесниками — государственными инспекторами по охране леса протоколы о нарушениях лесного законодательства и правил охоты, а также самостоятельно составляет протоколы о таких нарушениях и передает их в лесничество. Принимает меры по ликвидации лесных пожаров с одновременным извещением об этом лесничего — старшего государственного инспектора по охране леса. Дает предписания (указания) по устранению нарушений лесного законодательства, установленного порядка ведения лесного хозяйства и лесопользования.'])\n",
      "('Системный анализ и управление', '210659', 'Государственный инспектор по охране леса', ['Знание Лесного Кодекса РФ, основных требований законодательства в сфере охраны природы и  рационального использования лесных ресурсов'])\n",
      "('Системный анализ и управление', '210659', 'Государственный инспектор по охране леса', ['Знание Лесного Кодекса РФ, основных требований законодательства в сфере охраны природы и  рационального использования лесных ресурсов'])\n",
      "('Биотехнология', '271421', 'Технолог', ['Технолог хлебобулочного и кондитерского пр-ва.Контроль качества и объемов производства продукции,расчет количества сырья и полуфабрикатов для сменной выработки,прием сырья и сдача готовой продукции,составление отчетной документации,составление технологических карт.'])\n"
     ]
    }
   ],
   "source": [
    "def get_vacancies():\n",
    "    evts = ET.iterparse('trudvsem/jobs.xml', events=('start', 'end'))\n",
    "    root = None\n",
    "    for evt, elem in evts:\n",
    "        if elem.tag == 'vacancies':\n",
    "            root = elem\n",
    "        if evt == 'end' and elem.tag == 'vacancy':\n",
    "            yield elem\n",
    "            elem.clear()\n",
    "            root.clear()\n",
    "            \n",
    "profs = get_vacancies()\n",
    "profs = ((v.find('profession'), v.find('title'), v.findall('responsibilities'))\n",
    "         for v in get_vacancies())\n",
    "profs = (p for p in profs if p[0] is not None and p[1] is not None)\n",
    "profs = ((urllib.parse.urlparse(url.attrib['resource']).fragment,\n",
    "          name.text if name is not None else None,\n",
    "          [r.text for r in resps])\n",
    "         for (url, name, resps) in profs)\n",
    "profs = ((okpdtr_to_prog[p[0]],) + p for p in profs if p[0] in okpdtr_to_prog)\n",
    "profs = itertools.islice(profs, 10)\n",
    "for p in profs:\n",
    "    print(p)"
   ]
  },
  {
   "cell_type": "code",
   "execution_count": 58,
   "metadata": {},
   "outputs": [],
   "source": [
    "! sqlite3 programs.db 'select programs.name from programs left join program_okpdtr on programs.id=program_okpdtr.program where program_okpdtr.okpdtr=184473;'"
   ]
  },
  {
   "cell_type": "code",
   "execution_count": null,
   "metadata": {},
   "outputs": [],
   "source": []
  }
 ],
 "metadata": {
  "kernelspec": {
   "display_name": "Python 3",
   "language": "python",
   "name": "python3"
  },
  "language_info": {
   "codemirror_mode": {
    "name": "ipython",
    "version": 3
   },
   "file_extension": ".py",
   "mimetype": "text/x-python",
   "name": "python",
   "nbconvert_exporter": "python",
   "pygments_lexer": "ipython3",
   "version": "3.6.8"
  }
 },
 "nbformat": 4,
 "nbformat_minor": 2
}
