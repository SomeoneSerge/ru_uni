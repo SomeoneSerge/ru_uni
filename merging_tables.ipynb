{
 "cells": [
  {
   "cell_type": "code",
   "execution_count": 12,
   "metadata": {},
   "outputs": [],
   "source": [
    "import collections\n",
    "import itertools\n",
    "\n",
    "import attr\n",
    "import csv\n",
    "import sqlite3"
   ]
  },
  {
   "cell_type": "code",
   "execution_count": 13,
   "metadata": {},
   "outputs": [],
   "source": [
    "%run common.ipynb"
   ]
  },
  {
   "cell_type": "code",
   "execution_count": 32,
   "metadata": {},
   "outputs": [],
   "source": [
    "@attr.s\n",
    "class OkpdtrOkz:\n",
    "    TABLE = 'okz_okpdtr'\n",
    "    CSV = 'okz_to_okpdtr.csv'\n",
    "    okpdtr = attr.ib()\n",
    "    okz = attr.ib()\n",
    "    name = attr.ib()\n",
    "    \n",
    "@attr.s\n",
    "class PsOkz:\n",
    "    TABLE = 'ps_okz'\n",
    "    CSV = 'ps_to_okz.csv'\n",
    "    ps = attr.ib()\n",
    "    okz = attr.ib()\n",
    "\n",
    "@attr.s\n",
    "class Program:\n",
    "    TABLE = 'programs'\n",
    "    CSV = 'programs.csv'\n",
    "    program_code = attr.ib()\n",
    "    name = attr.ib()\n",
    "\n",
    "    \n",
    "@attr.s\n",
    "class ProgramProfstandards:\n",
    "    TABLE = 'program_ps'\n",
    "    CSV = 'program_to_profstandard.csv'\n",
    "    program = attr.ib()\n",
    "    ps = attr.ib()"
   ]
  },
  {
   "cell_type": "code",
   "execution_count": 33,
   "metadata": {},
   "outputs": [],
   "source": [
    "def make_reader(cls):\n",
    "    filename = cls.CSV\n",
    "    def read():\n",
    "        with open(filename, 'r') as f:\n",
    "            reader = csv.DictReader(f)\n",
    "            rows = (cls(**dict(row)) for row in reader)\n",
    "            yield from rows\n",
    "    read.__name__ = 'read_' + cls.__name__\n",
    "    return read"
   ]
  },
  {
   "cell_type": "code",
   "execution_count": 34,
   "metadata": {},
   "outputs": [],
   "source": [
    "def cls_to_insert_query(cls):\n",
    "    placeholders = ','.join(('?' for x in attr.fields(cls)))\n",
    "    return f'INSERT INTO {cls.TABLE} VALUES ({placeholders});'\n",
    "\n",
    "def cls_to_create_table(cls):\n",
    "    fields = attr.fields(cls)\n",
    "    fields = (f.name + ' text' for f in fields)\n",
    "    fields = ', '.join(fields)\n",
    "    return f'CREATE TABLE {cls.TABLE} ({fields});'"
   ]
  },
  {
   "cell_type": "code",
   "execution_count": 39,
   "metadata": {},
   "outputs": [],
   "source": [
    "def join_queries():\n",
    "    yield \"\"\"CREATE TABLE program_okpdtr AS\n",
    "    SELECT DISTINCT p.program_code AS \"program\", okz_okpdtr.okpdtr AS \"okpdtr\"\n",
    "    FROM programs p\n",
    "    INNER JOIN program_ps p_ps ON p.program_code = p_ps.program\n",
    "    INNER JOIN ps_okz ON p_ps.ps = ps_okz.ps\n",
    "    INNER JOIN okz_okpdtr ON ps_okz.okz = okz_okpdtr.okz;\n",
    "    \"\"\"\n",
    "    yield \"\"\"\n",
    "    CREATE TABLE links AS\n",
    "    SELECT DISTINCT\n",
    "    p.program_code AS \"program\",\n",
    "    okz_okpdtr.okpdtr AS \"okpdtr\",\n",
    "    p_ps.ps as \"profstandard\",\n",
    "    ps_okz.okz as \"okz\"\n",
    "    FROM programs p\n",
    "    INNER JOIN program_ps p_ps ON p.program_code = p_ps.program\n",
    "    INNER JOIN ps_okz ON p_ps.ps = ps_okz.ps\n",
    "    INNER JOIN okz_okpdtr ON ps_okz.okz = okz_okpdtr.okz;\n",
    "    \"\"\"\n",
    "    yield \"\"\"CREATE TABLE cnt_program_okpdtrs AS\n",
    "    SELECT program, p.name, COUNT(1) AS \"cnt\"\n",
    "    FROM program_okpdtr\n",
    "    INNER JOIN programs p ON p.program_code = program\n",
    "    GROUP BY program_okpdtr.okpdtr;\n",
    "    \"\"\""
   ]
  },
  {
   "cell_type": "code",
   "execution_count": 40,
   "metadata": {},
   "outputs": [
    {
     "name": "stderr",
     "output_type": "stream",
     "text": [
      "\n",
      "\n",
      "\n",
      "0it [00:00, ?it/s]\u001b[A\u001b[A\u001b[A\n",
      "\n",
      "\n",
      "5026it [00:00, 50253.58it/s]\u001b[A\u001b[A\u001b[A\n",
      "\n",
      "\n",
      "7993it [00:00, 49901.42it/s]\u001b[A\u001b[A\u001b[A\n",
      "\n",
      "\n",
      "0it [00:00, ?it/s]\u001b[A\u001b[A\u001b[A\n",
      "\n",
      "\n",
      "335it [00:00, 41851.84it/s]\u001b[A\u001b[A\u001b[A\n",
      "\n",
      "\n",
      "0it [00:00, ?it/s]\u001b[A\u001b[A\u001b[A\n",
      "\n",
      "\n",
      "459it [00:00, 54090.40it/s]\u001b[A\u001b[A\u001b[A\n",
      "\n",
      "\n",
      "0it [00:00, ?it/s]\u001b[A\u001b[A\u001b[A\n",
      "\n",
      "\n",
      "365it [00:00, 58073.02it/s]\u001b[A\u001b[A\u001b[A"
     ]
    },
    {
     "name": "stdout",
     "output_type": "stream",
     "text": [
      "(4407,)\n",
      "     program                                 name  cnt\n",
      "0   01.03.01                           Математика   22\n",
      "1   01.03.01                           Математика   22\n",
      "2   01.03.01                           Математика   22\n",
      "3   01.03.02  Прикладная математика и информатика   12\n",
      "4   01.03.02  Прикладная математика и информатика   12\n",
      "5   01.03.02  Прикладная математика и информатика   12\n",
      "6   01.03.01                           Математика   22\n",
      "7   01.03.01                           Математика   22\n",
      "8   01.03.02  Прикладная математика и информатика   12\n",
      "9   01.03.01                           Математика   22\n",
      "10  01.03.01                           Математика   22\n",
      "11  01.03.01                           Математика   22\n",
      "12  01.03.01                           Математика   22\n",
      "13  01.03.01                           Математика   22\n",
      "14  01.03.01                           Математика   22\n",
      "15  01.03.01                           Математика   22\n",
      "16  01.03.01                           Математика   22\n",
      "17  01.03.01                           Математика   22\n",
      "18  01.03.01                           Математика   22\n",
      "19  01.03.01                           Математика   22\n",
      "20  01.03.01                           Математика   22\n",
      "21  01.03.01                           Математика   22\n",
      "22  01.03.02  Прикладная математика и информатика   12\n",
      "23  01.03.01                           Математика   22\n",
      "24  01.03.01                           Математика   22\n",
      "25  01.03.02  Прикладная математика и информатика   12\n",
      "26  01.03.01                           Математика   22\n",
      "27  01.03.01                           Математика   22\n",
      "28  01.03.01                           Математика   22\n",
      "29  01.03.01                           Математика   22\n",
      "30  01.03.02  Прикладная математика и информатика   12\n",
      "31  01.03.02  Прикладная математика и информатика   12\n",
      "32  01.03.02  Прикладная математика и информатика   12\n"
     ]
    }
   ],
   "source": [
    "def feed(c):\n",
    "    for cls in [\n",
    "            OkpdtrOkz,\n",
    "            PsOkz,\n",
    "            Program,\n",
    "            ProgramProfstandards]:\n",
    "        reader = make_reader(cls)\n",
    "        c.execute(cls_to_create_table(cls))\n",
    "        data = tqdm.tqdm(reader())\n",
    "        data = map(attr.astuple, data)\n",
    "        con.executemany(cls_to_insert_query(cls), data)\n",
    "\n",
    "\n",
    "try:\n",
    "    if os.path.exists('programs.db'):\n",
    "        os.remove('programs.db')\n",
    "    con = sqlite3.connect('programs.db')\n",
    "    feed(con)\n",
    "    con.commit()\n",
    "    for q in join_queries():\n",
    "        con.execute(q)\n",
    "    print(next(con.execute('SELECT COUNT(1) FROM program_okpdtr;')))\n",
    "    print(pd.read_sql_query('SELECT * FROM cnt_program_okpdtrs WHERE cnt == 0 OR cnt > 10;', con))\n",
    "finally:\n",
    "    con.close()"
   ]
  },
  {
   "cell_type": "code",
   "execution_count": null,
   "metadata": {},
   "outputs": [],
   "source": []
  },
  {
   "cell_type": "code",
   "execution_count": null,
   "metadata": {},
   "outputs": [],
   "source": []
  },
  {
   "cell_type": "code",
   "execution_count": null,
   "metadata": {},
   "outputs": [],
   "source": []
  }
 ],
 "metadata": {
  "kernelspec": {
   "display_name": "Python 3",
   "language": "python",
   "name": "python3"
  },
  "language_info": {
   "codemirror_mode": {
    "name": "ipython",
    "version": 3
   },
   "file_extension": ".py",
   "mimetype": "text/x-python",
   "name": "python",
   "nbconvert_exporter": "python",
   "pygments_lexer": "ipython3",
   "version": "3.6.8"
  }
 },
 "nbformat": 4,
 "nbformat_minor": 2
}
