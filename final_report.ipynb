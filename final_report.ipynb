{
 "cells": [
  {
   "cell_type": "markdown",
   "metadata": {},
   "source": [
    "# Industrial Immersion at Accounts Chamber: final report\n",
    "**Skoltech, 2019**"
   ]
  },
  {
   "cell_type": "markdown",
   "metadata": {},
   "source": [
    "## Investigation of divergence between employment market and educational programs funded by federal budget\n",
    "\n",
    "**Student**: Sergei Kozlukov\n",
    "\n",
    "**Company supervisor**: Chistoborodov Alexander, Mikhail Petrov"
   ]
  },
  {
   "cell_type": "markdown",
   "metadata": {},
   "source": [
    "## Problem statement\n",
    "\n",
    "In order to better prioritize and manage educational programs funded from federal budget, it is needed (among other things) to collect data on students graduating with various specializations in each region and data on open job positions at local companies. This data is implicitly available in open sources like aggregated govermental reports, social networks, employment-related web-services. Most of this data however is not linked nor is it machine readable."
   ]
  },
  {
   "cell_type": "markdown",
   "metadata": {},
   "source": [
    "## Datasources\n",
    "\n",
    "- Universities, their websites, offered programs, etc: **Obrnadzor**\n",
    "- Graduated students in each programs, aggregated by region: **Minobrnauki** (VPO-1)\n",
    "- Graduated students, per university: possessed by minobrnauki, currently unavailable because of lack of collaboration between governmental institutions\n",
    "- Offered jobs with textural descriptions: **hh.ru**\n",
    "- Offered jobs, linked to OKPDTR: **trudvsem.ru**\n",
    "- OKPDTR linked to OKZ: **http://base.garant.ru/1548770/**\n",
    "- OKZ linked to professional standards: **http://fgosvo.ru/docs/101/69/2**\n",
    "- Professional standards linked to educational programs: **http://fgosvo.ru/fgosvo/142/141/16**"
   ]
  },
  {
   "cell_type": "markdown",
   "metadata": {},
   "source": [
    "## Parsing Obrnadzor data\n",
    "\n",
    "Plain XML. See [possible_sources.ipynb](https://nbviewer.jupyter.org/github/newkozlukov/ru_uni/blob/master/possible_sources.ipynb)"
   ]
  },
  {
   "cell_type": "markdown",
   "metadata": {},
   "source": [
    "## Parsing Minobrnauki data\n",
    "\n",
    "Minobrnauki reports data in standardized VPO-1 form, providing unstructured excel tables split into multiple sheets and apparently filled by hand. A coroutine-based non-deterministic finite state machine has been implemented to parse those reports. Resulting data contains graduates per program per region over the last year, although parser extracts much more data which could be used later.\n",
    "\n",
    "Reports are parsed without any loss of data in [generator_based_vpo1.ipynb](https://nbviewer.jupyter.org/github/newkozlukov/ru_uni/blob/master/generator_based_vpo1.ipynb) and fed into MongoDB collection.\n",
    "Notebook [graduates_regionwise.ipynb](https://nbviewer.jupyter.org/github/newkozlukov/ru_uni/blob/master/graduates_regionwise.ipynb) constructs a MongoDB aggregation pipeline which extracts from these parsed reports, filters and aggregates the data about graduates. This data is saved into [graduates.csv](https://nbviewer.jupyter.org/github/newkozlukov/ru_uni/blob/master/graduates.csv)"
   ]
  },
  {
   "cell_type": "code",
   "execution_count": 1,
   "metadata": {},
   "outputs": [
    {
     "data": {
      "text/html": [
       "<div>\n",
       "<style scoped>\n",
       "    .dataframe tbody tr th:only-of-type {\n",
       "        vertical-align: middle;\n",
       "    }\n",
       "\n",
       "    .dataframe tbody tr th {\n",
       "        vertical-align: top;\n",
       "    }\n",
       "\n",
       "    .dataframe thead th {\n",
       "        text-align: right;\n",
       "    }\n",
       "</style>\n",
       "<table border=\"1\" class=\"dataframe\">\n",
       "  <thead>\n",
       "    <tr style=\"text-align: right;\">\n",
       "      <th></th>\n",
       "      <th>region</th>\n",
       "      <th>funded_by</th>\n",
       "      <th>time_involvement</th>\n",
       "      <th>program</th>\n",
       "      <th>group</th>\n",
       "      <th>program_code</th>\n",
       "      <th>n_graduates</th>\n",
       "    </tr>\n",
       "  </thead>\n",
       "  <tbody>\n",
       "    <tr>\n",
       "      <th>21645</th>\n",
       "      <td>Удмуртская Республика</td>\n",
       "      <td>Частные</td>\n",
       "      <td>заочная</td>\n",
       "      <td>Менеджмент</td>\n",
       "      <td>1.0</td>\n",
       "      <td>38.03.02</td>\n",
       "      <td>35.0</td>\n",
       "    </tr>\n",
       "    <tr>\n",
       "      <th>21646</th>\n",
       "      <td>Удмуртская Республика</td>\n",
       "      <td>Частные</td>\n",
       "      <td>заочная</td>\n",
       "      <td>Государственное и муниципальное управление</td>\n",
       "      <td>1.0</td>\n",
       "      <td>38.03.04</td>\n",
       "      <td>11.0</td>\n",
       "    </tr>\n",
       "    <tr>\n",
       "      <th>21647</th>\n",
       "      <td>Удмуртская Республика</td>\n",
       "      <td>Частные</td>\n",
       "      <td>заочная</td>\n",
       "      <td>Торговое дело</td>\n",
       "      <td>1.0</td>\n",
       "      <td>38.03.06</td>\n",
       "      <td>6.0</td>\n",
       "    </tr>\n",
       "    <tr>\n",
       "      <th>21648</th>\n",
       "      <td>Удмуртская Республика</td>\n",
       "      <td>Частные</td>\n",
       "      <td>заочная</td>\n",
       "      <td>Строительство</td>\n",
       "      <td>1.0</td>\n",
       "      <td>08.04.01</td>\n",
       "      <td>1.0</td>\n",
       "    </tr>\n",
       "    <tr>\n",
       "      <th>21649</th>\n",
       "      <td>Удмуртская Республика</td>\n",
       "      <td>Частные</td>\n",
       "      <td>заочная</td>\n",
       "      <td>Техносферная безопасность</td>\n",
       "      <td>1.0</td>\n",
       "      <td>20.04.01</td>\n",
       "      <td>1.0</td>\n",
       "    </tr>\n",
       "  </tbody>\n",
       "</table>\n",
       "</div>"
      ],
      "text/plain": [
       "                      region funded_by time_involvement  \\\n",
       "21645  Удмуртская Республика   Частные          заочная   \n",
       "21646  Удмуртская Республика   Частные          заочная   \n",
       "21647  Удмуртская Республика   Частные          заочная   \n",
       "21648  Удмуртская Республика   Частные          заочная   \n",
       "21649  Удмуртская Республика   Частные          заочная   \n",
       "\n",
       "                                          program  group program_code  \\\n",
       "21645                                  Менеджмент    1.0     38.03.02   \n",
       "21646  Государственное и муниципальное управление    1.0     38.03.04   \n",
       "21647                               Торговое дело    1.0     38.03.06   \n",
       "21648                               Строительство    1.0     08.04.01   \n",
       "21649                   Техносферная безопасность    1.0     20.04.01   \n",
       "\n",
       "       n_graduates  \n",
       "21645         35.0  \n",
       "21646         11.0  \n",
       "21647          6.0  \n",
       "21648          1.0  \n",
       "21649          1.0  "
      ]
     },
     "execution_count": 1,
     "metadata": {},
     "output_type": "execute_result"
    }
   ],
   "source": [
    "%run common.ipynb\n",
    "\n",
    "pd.read_csv('graduates.csv').tail()"
   ]
  },
  {
   "cell_type": "markdown",
   "metadata": {},
   "source": [
    "## Educational programs (FGOS VO standards)\n",
    "\n",
    "A bunch of loosely structured PDF-files listed at [http://fgosvo.ru/fgosvo/142/141/16](http://fgosvo.ru/fgosvo/142/141/16), some of them image-based.\n",
    "In [okpdtr.ipynb](https://nbviewer.jupyter.org/github/newkozlukov/ru_uni/blob/master/okpdtr.ipynb) I'm constructing a list of these documents and downloading them.\n",
    "The actual parsing is done in [extract_fgosvo.py](https://nbviewer.jupyter.org/github/newkozlukov/ru_uni/blob/master/extract_fgosvo.py) script (it's more comfortable to run such long tasks from terminal than in jupyter, plus I had problems with accessing ghostscript from firejailed conda environment). By the way, the script implements kind of reactive style (although it almost completely ignores error handling) which to my thinking is funny in the context of python. I'm using [`camelot-py`](https://camelot-py.readthedocs.io/) to extract tabular data from PDFs in the form of pandas dataframe. It is not very efficient and also very unstable approach, which relies on access to ghostscript executable and a very high `ulimit` set, however it's Just Works (TM). Dataframes are filtered and links to profstandards are extracted:"
   ]
  },
  {
   "cell_type": "code",
   "execution_count": 2,
   "metadata": {},
   "outputs": [
    {
     "data": {
      "text/html": [
       "<div>\n",
       "<style scoped>\n",
       "    .dataframe tbody tr th:only-of-type {\n",
       "        vertical-align: middle;\n",
       "    }\n",
       "\n",
       "    .dataframe tbody tr th {\n",
       "        vertical-align: top;\n",
       "    }\n",
       "\n",
       "    .dataframe thead th {\n",
       "        text-align: right;\n",
       "    }\n",
       "</style>\n",
       "<table border=\"1\" class=\"dataframe\">\n",
       "  <thead>\n",
       "    <tr style=\"text-align: right;\">\n",
       "      <th></th>\n",
       "      <th>program</th>\n",
       "      <th>ps</th>\n",
       "    </tr>\n",
       "  </thead>\n",
       "  <tbody>\n",
       "    <tr>\n",
       "      <th>360</th>\n",
       "      <td>29.03.05</td>\n",
       "      <td>21.002</td>\n",
       "    </tr>\n",
       "    <tr>\n",
       "      <th>361</th>\n",
       "      <td>29.03.05</td>\n",
       "      <td>33.016</td>\n",
       "    </tr>\n",
       "    <tr>\n",
       "      <th>362</th>\n",
       "      <td>29.03.05</td>\n",
       "      <td>40.011</td>\n",
       "    </tr>\n",
       "    <tr>\n",
       "      <th>363</th>\n",
       "      <td>29.03.05</td>\n",
       "      <td>40.059</td>\n",
       "    </tr>\n",
       "    <tr>\n",
       "      <th>364</th>\n",
       "      <td>35.03.06</td>\n",
       "      <td>13.001</td>\n",
       "    </tr>\n",
       "  </tbody>\n",
       "</table>\n",
       "</div>"
      ],
      "text/plain": [
       "      program      ps\n",
       "360  29.03.05  21.002\n",
       "361  29.03.05  33.016\n",
       "362  29.03.05  40.011\n",
       "363  29.03.05  40.059\n",
       "364  35.03.06  13.001"
      ]
     },
     "execution_count": 2,
     "metadata": {},
     "output_type": "execute_result"
    }
   ],
   "source": [
    "pd.read_csv('program_to_profstandard.csv').tail()"
   ]
  },
  {
   "cell_type": "markdown",
   "metadata": {},
   "source": [
    "## Professional standards to OKZ\n",
    "\n",
    "Professional standards are defined by documents in http://fgosvo.ru/docs/101/69/2.\n",
    "This is again a huge pile of unstructured PDF files *most* of which are image-based.\n",
    "PDFs are downloaded in same notebook: [okpdtr.ipynb](https://nbviewer.jupyter.org/github/newkozlukov/ru_uni/blob/master/okpdtr.ipynb).\n",
    "Then [extract_okz.py](https://nbviewer.jupyter.org/github/newkozlukov/ru_uni/blob/master/extract_okz.py), a script similar to previous one, filters out invalid and image-based PDFs and extracts links from professional standards to OKZ."
   ]
  },
  {
   "cell_type": "code",
   "execution_count": 3,
   "metadata": {},
   "outputs": [
    {
     "data": {
      "text/html": [
       "<div>\n",
       "<style scoped>\n",
       "    .dataframe tbody tr th:only-of-type {\n",
       "        vertical-align: middle;\n",
       "    }\n",
       "\n",
       "    .dataframe tbody tr th {\n",
       "        vertical-align: top;\n",
       "    }\n",
       "\n",
       "    .dataframe thead th {\n",
       "        text-align: right;\n",
       "    }\n",
       "</style>\n",
       "<table border=\"1\" class=\"dataframe\">\n",
       "  <thead>\n",
       "    <tr style=\"text-align: right;\">\n",
       "      <th></th>\n",
       "      <th>ps</th>\n",
       "      <th>okz</th>\n",
       "    </tr>\n",
       "  </thead>\n",
       "  <tbody>\n",
       "    <tr>\n",
       "      <th>330</th>\n",
       "      <td>5.005</td>\n",
       "      <td>2351</td>\n",
       "    </tr>\n",
       "    <tr>\n",
       "      <th>331</th>\n",
       "      <td>5.005</td>\n",
       "      <td>2359</td>\n",
       "    </tr>\n",
       "    <tr>\n",
       "      <th>332</th>\n",
       "      <td>5.005</td>\n",
       "      <td>3320</td>\n",
       "    </tr>\n",
       "    <tr>\n",
       "      <th>333</th>\n",
       "      <td>5.005</td>\n",
       "      <td>3330</td>\n",
       "    </tr>\n",
       "    <tr>\n",
       "      <th>334</th>\n",
       "      <td>5.005</td>\n",
       "      <td>3431</td>\n",
       "    </tr>\n",
       "  </tbody>\n",
       "</table>\n",
       "</div>"
      ],
      "text/plain": [
       "        ps   okz\n",
       "330  5.005  2351\n",
       "331  5.005  2359\n",
       "332  5.005  3320\n",
       "333  5.005  3330\n",
       "334  5.005  3431"
      ]
     },
     "execution_count": 3,
     "metadata": {},
     "output_type": "execute_result"
    }
   ],
   "source": [
    "pd.read_csv('ps_to_okz.csv').tail()"
   ]
  },
  {
   "cell_type": "markdown",
   "metadata": {},
   "source": [
    "## OKZ to OKPDTR\n",
    "\n",
    "Finally, in the same notebook the link between OKZ and OKPDTR is extracted from some arbitrary webpage."
   ]
  },
  {
   "cell_type": "code",
   "execution_count": 4,
   "metadata": {},
   "outputs": [
    {
     "data": {
      "text/html": [
       "<div>\n",
       "<style scoped>\n",
       "    .dataframe tbody tr th:only-of-type {\n",
       "        vertical-align: middle;\n",
       "    }\n",
       "\n",
       "    .dataframe tbody tr th {\n",
       "        vertical-align: top;\n",
       "    }\n",
       "\n",
       "    .dataframe thead th {\n",
       "        text-align: right;\n",
       "    }\n",
       "</style>\n",
       "<table border=\"1\" class=\"dataframe\">\n",
       "  <thead>\n",
       "    <tr style=\"text-align: right;\">\n",
       "      <th></th>\n",
       "      <th>okpdtr</th>\n",
       "      <th>okz</th>\n",
       "      <th>name</th>\n",
       "    </tr>\n",
       "  </thead>\n",
       "  <tbody>\n",
       "    <tr>\n",
       "      <th>7988</th>\n",
       "      <td>471103</td>\n",
       "      <td>3119</td>\n",
       "      <td>Техник службы пути</td>\n",
       "    </tr>\n",
       "    <tr>\n",
       "      <th>7989</th>\n",
       "      <td>471122</td>\n",
       "      <td>3119</td>\n",
       "      <td>Техник службы эксплуатации</td>\n",
       "    </tr>\n",
       "    <tr>\n",
       "      <th>7990</th>\n",
       "      <td>471226</td>\n",
       "      <td>3114</td>\n",
       "      <td>Техник-электрик-наладчик электронного оборудов...</td>\n",
       "    </tr>\n",
       "    <tr>\n",
       "      <th>7991</th>\n",
       "      <td>473378</td>\n",
       "      <td>2111</td>\n",
       "      <td>Физик (контролирующий) критического стенда</td>\n",
       "    </tr>\n",
       "    <tr>\n",
       "      <th>7992</th>\n",
       "      <td>478552</td>\n",
       "      <td>3113</td>\n",
       "      <td>Электромеханик устройств сигнализации, централ...</td>\n",
       "    </tr>\n",
       "  </tbody>\n",
       "</table>\n",
       "</div>"
      ],
      "text/plain": [
       "      okpdtr   okz                                               name\n",
       "7988  471103  3119                                 Техник службы пути\n",
       "7989  471122  3119                         Техник службы эксплуатации\n",
       "7990  471226  3114  Техник-электрик-наладчик электронного оборудов...\n",
       "7991  473378  2111         Физик (контролирующий) критического стенда\n",
       "7992  478552  3113  Электромеханик устройств сигнализации, централ..."
      ]
     },
     "execution_count": 4,
     "metadata": {},
     "output_type": "execute_result"
    }
   ],
   "source": [
    "pd.read_csv('okz_to_okpdtr.csv').tail()"
   ]
  },
  {
   "cell_type": "markdown",
   "metadata": {},
   "source": [
    "## Merging data\n",
    "\n",
    "In [merging_tables.ipynb](https://nbviewer.jupyter.org/github/newkozlukov/ru_uni/blob/master/merging_tables.ipynb) these CSVs are fed into a sqlite file and then simple join is used to link educational programs to OKPDTRs"
   ]
  },
  {
   "cell_type": "code",
   "execution_count": 5,
   "metadata": {},
   "outputs": [],
   "source": [
    "import sqlite3\n",
    "\n",
    "\n",
    "con = sqlite3.connect('programs.db')"
   ]
  },
  {
   "cell_type": "code",
   "execution_count": 8,
   "metadata": {},
   "outputs": [
    {
     "data": {
      "text/html": [
       "<div>\n",
       "<style scoped>\n",
       "    .dataframe tbody tr th:only-of-type {\n",
       "        vertical-align: middle;\n",
       "    }\n",
       "\n",
       "    .dataframe tbody tr th {\n",
       "        vertical-align: top;\n",
       "    }\n",
       "\n",
       "    .dataframe thead th {\n",
       "        text-align: right;\n",
       "    }\n",
       "</style>\n",
       "<table border=\"1\" class=\"dataframe\">\n",
       "  <thead>\n",
       "    <tr style=\"text-align: right;\">\n",
       "      <th></th>\n",
       "      <th>program</th>\n",
       "      <th>okpdtr</th>\n",
       "    </tr>\n",
       "  </thead>\n",
       "  <tbody>\n",
       "    <tr>\n",
       "      <th>0</th>\n",
       "      <td>01.03.01</td>\n",
       "      <td>204395</td>\n",
       "    </tr>\n",
       "    <tr>\n",
       "      <th>1</th>\n",
       "      <td>01.03.01</td>\n",
       "      <td>204427</td>\n",
       "    </tr>\n",
       "    <tr>\n",
       "      <th>2</th>\n",
       "      <td>01.03.01</td>\n",
       "      <td>254784</td>\n",
       "    </tr>\n",
       "    <tr>\n",
       "      <th>3</th>\n",
       "      <td>01.03.01</td>\n",
       "      <td>254816</td>\n",
       "    </tr>\n",
       "    <tr>\n",
       "      <th>4</th>\n",
       "      <td>01.03.01</td>\n",
       "      <td>254841</td>\n",
       "    </tr>\n",
       "  </tbody>\n",
       "</table>\n",
       "</div>"
      ],
      "text/plain": [
       "    program  okpdtr\n",
       "0  01.03.01  204395\n",
       "1  01.03.01  204427\n",
       "2  01.03.01  254784\n",
       "3  01.03.01  254816\n",
       "4  01.03.01  254841"
      ]
     },
     "execution_count": 8,
     "metadata": {},
     "output_type": "execute_result"
    }
   ],
   "source": [
    "pd.read_sql_query('select * from program_okpdtr limit 5;', con)"
   ]
  },
  {
   "cell_type": "code",
   "execution_count": 9,
   "metadata": {},
   "outputs": [
    {
     "data": {
      "text/html": [
       "<div>\n",
       "<style scoped>\n",
       "    .dataframe tbody tr th:only-of-type {\n",
       "        vertical-align: middle;\n",
       "    }\n",
       "\n",
       "    .dataframe tbody tr th {\n",
       "        vertical-align: top;\n",
       "    }\n",
       "\n",
       "    .dataframe thead th {\n",
       "        text-align: right;\n",
       "    }\n",
       "</style>\n",
       "<table border=\"1\" class=\"dataframe\">\n",
       "  <thead>\n",
       "    <tr style=\"text-align: right;\">\n",
       "      <th></th>\n",
       "      <th>program</th>\n",
       "      <th>okpdtr</th>\n",
       "      <th>profstandard</th>\n",
       "      <th>okz</th>\n",
       "    </tr>\n",
       "  </thead>\n",
       "  <tbody>\n",
       "    <tr>\n",
       "      <th>0</th>\n",
       "      <td>01.03.01</td>\n",
       "      <td>204395</td>\n",
       "      <td>01.001</td>\n",
       "      <td>2320</td>\n",
       "    </tr>\n",
       "    <tr>\n",
       "      <th>1</th>\n",
       "      <td>01.03.01</td>\n",
       "      <td>204427</td>\n",
       "      <td>01.001</td>\n",
       "      <td>2320</td>\n",
       "    </tr>\n",
       "    <tr>\n",
       "      <th>2</th>\n",
       "      <td>01.03.01</td>\n",
       "      <td>254784</td>\n",
       "      <td>01.001</td>\n",
       "      <td>2320</td>\n",
       "    </tr>\n",
       "    <tr>\n",
       "      <th>3</th>\n",
       "      <td>01.03.01</td>\n",
       "      <td>254816</td>\n",
       "      <td>01.001</td>\n",
       "      <td>2320</td>\n",
       "    </tr>\n",
       "    <tr>\n",
       "      <th>4</th>\n",
       "      <td>01.03.01</td>\n",
       "      <td>254841</td>\n",
       "      <td>01.001</td>\n",
       "      <td>2320</td>\n",
       "    </tr>\n",
       "  </tbody>\n",
       "</table>\n",
       "</div>"
      ],
      "text/plain": [
       "    program  okpdtr profstandard   okz\n",
       "0  01.03.01  204395       01.001  2320\n",
       "1  01.03.01  204427       01.001  2320\n",
       "2  01.03.01  254784       01.001  2320\n",
       "3  01.03.01  254816       01.001  2320\n",
       "4  01.03.01  254841       01.001  2320"
      ]
     },
     "execution_count": 9,
     "metadata": {},
     "output_type": "execute_result"
    }
   ],
   "source": [
    "pd.read_sql_query('select * from links limit 5;', con)"
   ]
  },
  {
   "cell_type": "markdown",
   "metadata": {},
   "source": [
    "## Trudvsem.ru\n",
    "\n",
    "Trudvsem provides a huge XML file with open listings. These listings have textual descriptions and OKPDTRs.\n",
    "In [trudvsem.ipynb](https://nbviewer.jupyter.org/github/newkozlukov/ru_uni/blob/master/trudvsem.ipynb) I'm using established links to map OKPDTR lists in job listings to educational programs. I produce quantitative aggregated data about jobs similar to available data on educational programs and produce comparison histograms.\n",
    "\n",
    "This data however does not allow to judge about divergence between programs and job market as for many educational programs the links to OKPDTRs are lacking (because of invalid or image based documents published by govermental institutions) and also trudvsem is unpopular service provided by government, thus it cannot represent the actual employment market's demand."
   ]
  },
  {
   "cell_type": "markdown",
   "metadata": {},
   "source": [
    "## Future work\n",
    "\n",
    "Data from trudvsem together with okz-profstandard-educational program hierarchy can be used to build and train a fuzzy model to map textual descriptions to educational programs. Specifically, available data forms a metric _graph_ which we can try to isometrically-as-possible embed into a hyperbolic space, constructing embeddings for job listings from their textual descriptions via neural network. We could hope then that this model will be able to restore the larger graph, by using it to embed (in just forward mode) listings from, say, hh.ru into that same hyperbolic space."
   ]
  },
  {
   "cell_type": "code",
   "execution_count": null,
   "metadata": {},
   "outputs": [],
   "source": []
  }
 ],
 "metadata": {
  "kernelspec": {
   "display_name": "Python 3",
   "language": "python",
   "name": "python3"
  },
  "language_info": {
   "codemirror_mode": {
    "name": "ipython",
    "version": 3
   },
   "file_extension": ".py",
   "mimetype": "text/x-python",
   "name": "python",
   "nbconvert_exporter": "python",
   "pygments_lexer": "ipython3",
   "version": "3.7.3"
  }
 },
 "nbformat": 4,
 "nbformat_minor": 2
}
