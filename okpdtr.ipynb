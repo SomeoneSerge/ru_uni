{
 "cells": [
  {
   "cell_type": "code",
   "execution_count": 1,
   "metadata": {},
   "outputs": [],
   "source": [
    "%run common.ipynb"
   ]
  },
  {
   "cell_type": "code",
   "execution_count": 2,
   "metadata": {},
   "outputs": [],
   "source": [
    "import csv\n",
    "import urllib"
   ]
  },
  {
   "cell_type": "code",
   "execution_count": 3,
   "metadata": {
    "scrolled": false
   },
   "outputs": [],
   "source": [
    "import bs4 as bs"
   ]
  },
  {
   "cell_type": "code",
   "execution_count": 4,
   "metadata": {},
   "outputs": [],
   "source": [
    "from multiprocessing import Pool\n"
   ]
  },
  {
   "cell_type": "code",
   "execution_count": 5,
   "metadata": {},
   "outputs": [],
   "source": [
    "programcode_to_id = pd.read_csv(PROGRAMCODE_TO_ID_FILE)\n",
    "program_codes = set(programcode_to_id.code)"
   ]
  },
  {
   "cell_type": "code",
   "execution_count": 6,
   "metadata": {},
   "outputs": [
    {
     "data": {
      "text/html": [
       "<div>\n",
       "<style scoped>\n",
       "    .dataframe tbody tr th:only-of-type {\n",
       "        vertical-align: middle;\n",
       "    }\n",
       "\n",
       "    .dataframe tbody tr th {\n",
       "        vertical-align: top;\n",
       "    }\n",
       "\n",
       "    .dataframe thead th {\n",
       "        text-align: right;\n",
       "    }\n",
       "</style>\n",
       "<table border=\"1\" class=\"dataframe\">\n",
       "  <thead>\n",
       "    <tr style=\"text-align: right;\">\n",
       "      <th></th>\n",
       "      <th>0</th>\n",
       "      <th>1</th>\n",
       "      <th>2</th>\n",
       "    </tr>\n",
       "  </thead>\n",
       "  <tbody>\n",
       "    <tr>\n",
       "      <th>0</th>\n",
       "      <td>Код</td>\n",
       "      <td>Наименование направления</td>\n",
       "      <td>Текст стандарта</td>\n",
       "    </tr>\n",
       "    <tr>\n",
       "      <th>1</th>\n",
       "      <td>01.03.01</td>\n",
       "      <td>Математика</td>\n",
       "      <td>Скачать</td>\n",
       "    </tr>\n",
       "    <tr>\n",
       "      <th>2</th>\n",
       "      <td>01.03.02</td>\n",
       "      <td>Прикладная математика и информатика</td>\n",
       "      <td>Скачать</td>\n",
       "    </tr>\n",
       "    <tr>\n",
       "      <th>3</th>\n",
       "      <td>01.03.03</td>\n",
       "      <td>Механика и математическое моделирование</td>\n",
       "      <td>Скачать</td>\n",
       "    </tr>\n",
       "    <tr>\n",
       "      <th>4</th>\n",
       "      <td>01.03.04</td>\n",
       "      <td>Прикладная математика</td>\n",
       "      <td>Скачать</td>\n",
       "    </tr>\n",
       "  </tbody>\n",
       "</table>\n",
       "</div>"
      ],
      "text/plain": [
       "          0                                        1                2\n",
       "0       Код                 Наименование направления  Текст стандарта\n",
       "1  01.03.01                               Математика          Скачать\n",
       "2  01.03.02      Прикладная математика и информатика          Скачать\n",
       "3  01.03.03  Механика и математическое моделирование          Скачать\n",
       "4  01.03.04                    Прикладная математика          Скачать"
      ]
     },
     "execution_count": 6,
     "metadata": {},
     "output_type": "execute_result"
    }
   ],
   "source": [
    "pd.read_html('http://fgosvo.ru/fgosvo/142/141/16/28', )[0]"
   ]
  },
  {
   "cell_type": "code",
   "execution_count": 7,
   "metadata": {},
   "outputs": [
    {
     "data": {
      "text/plain": [
       "['http://fgosvo.ru/fgosvo/142/141/16/28',\n",
       " 'http://fgosvo.ru/fgosvo/142/141/16/29',\n",
       " 'http://fgosvo.ru/fgosvo/142/141/16/3',\n",
       " 'http://fgosvo.ru/fgosvo/142/141/16/4',\n",
       " 'http://fgosvo.ru/fgosvo/142/141/16/5',\n",
       " 'http://fgosvo.ru/fgosvo/142/141/16/6',\n",
       " 'http://fgosvo.ru/fgosvo/142/141/16/7',\n",
       " 'http://fgosvo.ru/fgosvo/142/141/16/8',\n",
       " 'http://fgosvo.ru/fgosvo/142/141/16/9',\n",
       " 'http://fgosvo.ru/fgosvo/142/141/16/10',\n",
       " 'http://fgosvo.ru/fgosvo/142/141/16/11',\n",
       " 'http://fgosvo.ru/fgosvo/142/141/16/12',\n",
       " 'http://fgosvo.ru/fgosvo/142/141/16/13',\n",
       " 'http://fgosvo.ru/fgosvo/142/141/16/14',\n",
       " 'http://fgosvo.ru/fgosvo/142/141/16/15',\n",
       " 'http://fgosvo.ru/fgosvo/142/141/16/16',\n",
       " 'http://fgosvo.ru/fgosvo/142/141/16/17',\n",
       " 'http://fgosvo.ru/fgosvo/142/141/16/18',\n",
       " 'http://fgosvo.ru/fgosvo/142/141/16/19',\n",
       " 'http://fgosvo.ru/fgosvo/142/141/16/20',\n",
       " 'http://fgosvo.ru/fgosvo/142/141/16/21',\n",
       " 'http://fgosvo.ru/fgosvo/142/141/16/22',\n",
       " 'http://fgosvo.ru/fgosvo/142/141/16/23',\n",
       " 'http://fgosvo.ru/fgosvo/142/141/16/24',\n",
       " 'http://fgosvo.ru/fgosvo/142/141/16/25',\n",
       " 'http://fgosvo.ru/fgosvo/142/141/16/26',\n",
       " 'http://fgosvo.ru/fgosvo/142/141/16/27',\n",
       " 'http://fgosvo.ru/fgosvo/142/141/16/82',\n",
       " 'http://fgosvo.ru/fgosvo/142/141/16/83',\n",
       " 'http://fgosvo.ru/fgosvo/142/141/16/84',\n",
       " 'http://fgosvo.ru/fgosvo/142/141/16/85',\n",
       " 'http://fgosvo.ru/fgosvo/142/141/16/86',\n",
       " 'http://fgosvo.ru/fgosvo/142/141/16/87',\n",
       " 'http://fgosvo.ru/fgosvo/142/141/16/88',\n",
       " 'http://fgosvo.ru/fgosvo/142/141/16/89',\n",
       " 'http://fgosvo.ru/fgosvo/142/141/16/90',\n",
       " 'http://fgosvo.ru/fgosvo/142/141/16/91',\n",
       " 'http://fgosvo.ru/fgosvo/142/141/16/92',\n",
       " 'http://fgosvo.ru/fgosvo/142/141/16/93',\n",
       " 'http://fgosvo.ru/fgosvo/142/141/16/94',\n",
       " 'http://fgosvo.ru/fgosvo/142/141/16/95',\n",
       " 'http://fgosvo.ru/fgosvo/142/141/16/96',\n",
       " 'http://fgosvo.ru/fgosvo/142/141/16/97',\n",
       " 'http://fgosvo.ru/fgosvo/142/141/16/98',\n",
       " 'http://fgosvo.ru/fgosvo/142/141/16/99',\n",
       " 'http://fgosvo.ru/fgosvo/142/141/16/100',\n",
       " 'http://fgosvo.ru/fgosvo/142/141/16/101',\n",
       " 'http://fgosvo.ru/fgosvo/142/141/16/102',\n",
       " 'http://fgosvo.ru/fgosvo/142/141/16/103',\n",
       " 'http://fgosvo.ru/fgosvo/142/141/16/104']"
      ]
     },
     "execution_count": 7,
     "metadata": {},
     "output_type": "execute_result"
    }
   ],
   "source": [
    "PAT_PROGRAM_LINK = re.compile('^\\d{6}.*$')\n",
    "\n",
    "\n",
    "def extract_program_link(dn):\n",
    "    if not PAT_PROGRAM_LINK.match(dn.text):\n",
    "        return\n",
    "    yield urllib.parse.urljoin('http://fgosvo.ru/', dn.find('a')['href'])\n",
    "\n",
    "def pagelist():\n",
    "    pages = bs.BeautifulSoup(requests.get('http://fgosvo.ru/fgosvo/142/141/16').text)\n",
    "    pages = map(extract_program_link, pages.find_all(class_='dn'))\n",
    "    pages = itertools.chain.from_iterable(pages)\n",
    "    return list(pages)\n",
    "    \n",
    "\n",
    "program_pages = pagelist()\n",
    "program_pages"
   ]
  },
  {
   "cell_type": "code",
   "execution_count": 8,
   "metadata": {},
   "outputs": [],
   "source": [
    "PAT_PROGRAMCODE = re.compile(r'\\d\\d\\.\\d\\d\\.\\d\\d')\n",
    "assert PAT_PROGRAMCODE.match('01.03.02')\n",
    "assert not PAT_PROGRAMCODE.match('01,03,02')"
   ]
  },
  {
   "cell_type": "code",
   "execution_count": 9,
   "metadata": {},
   "outputs": [],
   "source": [
    "def tr_to_record(tr):\n",
    "    tds = tr.find_all('td')\n",
    "    if len(tds) != 3:\n",
    "        return\n",
    "    program_code = tds[0].text.strip()\n",
    "    program_code = PAT_PROGRAMCODE.search(program_code)\n",
    "    if not program_code:\n",
    "        return\n",
    "    program_code = program_code.group(0)\n",
    "    url = tds[2].find('a')['href']\n",
    "    if not url.endswith('.pdf'):\n",
    "        return\n",
    "    url = urllib.parse.urljoin('http://fgosvo.ru/', url)\n",
    "    yield (program_code, url)\n",
    "    \n",
    "def program_url_to_pdflist(url):\n",
    "    pdfs = requests.get(url).text\n",
    "    pdfs = bs.BeautifulSoup(pdfs)\n",
    "    pdfs = pdfs.find('table').find_all('tr')\n",
    "    pdfs = map(tr_to_record, pdfs)\n",
    "    return itertools.chain.from_iterable(pdfs)\n",
    "    "
   ]
  },
  {
   "cell_type": "code",
   "execution_count": 10,
   "metadata": {},
   "outputs": [],
   "source": [
    "soup010302 = bs.BeautifulSoup(requests.get('http://fgosvo.ru/fgosvo/142/141/16/28').text)"
   ]
  },
  {
   "cell_type": "code",
   "execution_count": 11,
   "metadata": {
    "scrolled": true
   },
   "outputs": [
    {
     "data": {
      "text/plain": [
       "[('01.03.01',\n",
       "  'http://fgosvo.ru/fgosvo/downloads/1239/?f=%2Fuploadfiles%2FProjFGOSVO3%2B%2B%2FBak3%2B%2B%2F010301_B_3plus_12122017.pdf'),\n",
       " ('01.03.02',\n",
       "  'http://fgosvo.ru/fgosvo/downloads/1240/?f=%2Fuploadfiles%2FProjFGOSVO3%2B%2B%2FBak3%2B%2B%2F010302_B_3plus_12122017.pdf'),\n",
       " ('01.03.03',\n",
       "  'http://fgosvo.ru/fgosvo/downloads/1241/?f=%2Fuploadfiles%2FProjFGOSVO3%2B%2B%2FBak3%2B%2B%2F010303_B_3plus_12122017.pdf'),\n",
       " ('01.03.04',\n",
       "  'http://fgosvo.ru/fgosvo/downloads/1242/?f=%2Fuploadfiles%2FProjFGOSVO3%2B%2B%2FBak3%2B%2B%2F010304_B_3plus_12122017.pdf')]"
      ]
     },
     "execution_count": 11,
     "metadata": {},
     "output_type": "execute_result"
    }
   ],
   "source": [
    "list(itertools.chain.from_iterable(map(tr_to_record, soup010302.find('table').find_all('tr'))))"
   ]
  },
  {
   "cell_type": "code",
   "execution_count": 12,
   "metadata": {},
   "outputs": [
    {
     "data": {
      "text/plain": [
       "[('03.03.01',\n",
       "  'http://fgosvo.ru/fgosvo/downloads/1517/?f=%2Fuploadfiles%2FProjFGOSVO3%2B%2B%2FBak3%2B%2B%2F030301_B_3plus_22112017.pdf'),\n",
       " ('03.03.02',\n",
       "  'http://fgosvo.ru/fgosvo/downloads/1518/?f=%2Fuploadfiles%2FProjFGOSVO3%2B%2B%2FBak3%2B%2B%2F030302_B_3plus_22112017.pdf'),\n",
       " ('03.03.03',\n",
       "  'http://fgosvo.ru/fgosvo/downloads/1519/?f=%2Fuploadfiles%2FProjFGOSVO3%2B%2B%2FBak3%2B%2B%2F030303_B_3plus_22112017.pdf')]"
      ]
     },
     "execution_count": 12,
     "metadata": {},
     "output_type": "execute_result"
    }
   ],
   "source": [
    "list(program_url_to_pdflist('http://fgosvo.ru/fgosvo/142/141/16/3'))"
   ]
  },
  {
   "cell_type": "markdown",
   "metadata": {},
   "source": [
    "* * *"
   ]
  },
  {
   "cell_type": "code",
   "execution_count": null,
   "metadata": {},
   "outputs": [],
   "source": []
  },
  {
   "cell_type": "code",
   "execution_count": 13,
   "metadata": {},
   "outputs": [
    {
     "name": "stderr",
     "output_type": "stream",
     "text": [
      "176it [02:10,  1.35it/s]\n"
     ]
    }
   ],
   "source": [
    "with open('program_pdf_urls.txt', 'w') as f, Pool(5) as pool:\n",
    "    pdflist = pool.imap(program_url_to_pdflist, program_pages)\n",
    "    pdflist = itertools.chain.from_iterable(pdflist)\n",
    "    pdflist = tqdm.tqdm(pdflist)\n",
    "    \n",
    "    out = csv.writer(f)\n",
    "    out.writerow(['code', 'url'])\n",
    "    i = 0\n",
    "    def tee(pdf):\n",
    "        out.writerow(pdf)\n",
    "        return pdf\n",
    "    pdflist = map(tee, pdflist)\n",
    "    pdflist = list(pdflist)"
   ]
  },
  {
   "cell_type": "code",
   "execution_count": 14,
   "metadata": {},
   "outputs": [
    {
     "data": {
      "text/plain": [
       "176"
      ]
     },
     "execution_count": 14,
     "metadata": {},
     "output_type": "execute_result"
    }
   ],
   "source": [
    "len(pdflist)"
   ]
  },
  {
   "cell_type": "code",
   "execution_count": 15,
   "metadata": {},
   "outputs": [
    {
     "data": {
      "text/plain": [
       "459"
      ]
     },
     "execution_count": 15,
     "metadata": {},
     "output_type": "execute_result"
    }
   ],
   "source": [
    "len(program_codes)"
   ]
  },
  {
   "cell_type": "code",
   "execution_count": 16,
   "metadata": {},
   "outputs": [
    {
     "name": "stdout",
     "output_type": "stream",
     "text": [
      "291 programs.csv\r\n"
     ]
    }
   ],
   "source": [
    "! wc -l programs.csv"
   ]
  },
  {
   "cell_type": "code",
   "execution_count": 17,
   "metadata": {},
   "outputs": [
    {
     "data": {
      "text/plain": [
       "[('01.03.01',\n",
       "  'http://fgosvo.ru/fgosvo/downloads/1239/?f=%2Fuploadfiles%2FProjFGOSVO3%2B%2B%2FBak3%2B%2B%2F010301_B_3plus_12122017.pdf'),\n",
       " ('01.03.02',\n",
       "  'http://fgosvo.ru/fgosvo/downloads/1240/?f=%2Fuploadfiles%2FProjFGOSVO3%2B%2B%2FBak3%2B%2B%2F010302_B_3plus_12122017.pdf'),\n",
       " ('01.03.03',\n",
       "  'http://fgosvo.ru/fgosvo/downloads/1241/?f=%2Fuploadfiles%2FProjFGOSVO3%2B%2B%2FBak3%2B%2B%2F010303_B_3plus_12122017.pdf'),\n",
       " ('01.03.04',\n",
       "  'http://fgosvo.ru/fgosvo/downloads/1242/?f=%2Fuploadfiles%2FProjFGOSVO3%2B%2B%2FBak3%2B%2B%2F010304_B_3plus_12122017.pdf'),\n",
       " ('02.03.01',\n",
       "  'http://fgosvo.ru/fgosvo/downloads/991/?f=%2Fuploadfiles%2FProjFGOSVO3%2B%2B%2FBak3%2B%2B%2F020301_B_3plus_21062017.pdf'),\n",
       " ('02.03.02',\n",
       "  'http://fgosvo.ru/fgosvo/downloads/992/?f=%2Fuploadfiles%2FProjFGOSVO3%2B%2B%2FBak3%2B%2B%2F020302_B_3plus_21062017.pdf'),\n",
       " ('02.03.03',\n",
       "  'http://fgosvo.ru/fgosvo/downloads/993/?f=%2Fuploadfiles%2FProjFGOSVO3%2B%2B%2FBak3%2B%2B%2F020303_B_3plus_21062017.pdf'),\n",
       " ('03.03.01',\n",
       "  'http://fgosvo.ru/fgosvo/downloads/1517/?f=%2Fuploadfiles%2FProjFGOSVO3%2B%2B%2FBak3%2B%2B%2F030301_B_3plus_22112017.pdf'),\n",
       " ('03.03.02',\n",
       "  'http://fgosvo.ru/fgosvo/downloads/1518/?f=%2Fuploadfiles%2FProjFGOSVO3%2B%2B%2FBak3%2B%2B%2F030302_B_3plus_22112017.pdf'),\n",
       " ('03.03.03',\n",
       "  'http://fgosvo.ru/fgosvo/downloads/1519/?f=%2Fuploadfiles%2FProjFGOSVO3%2B%2B%2FBak3%2B%2B%2F030303_B_3plus_22112017.pdf'),\n",
       " ('04.03.01',\n",
       "  'http://fgosvo.ru/fgosvo/downloads/1001/?f=%2Fuploadfiles%2FProjFGOSVO3%2B%2B%2FBak3%2B%2B%2F040301_B_3plus_21062017.pdf'),\n",
       " ('04.03.02',\n",
       "  'http://fgosvo.ru/fgosvo/downloads/1002/?f=%2Fuploadfiles%2FProjFGOSVO3%2B%2B%2FBak3%2B%2B%2F040302_B_3plus_21062017.pdf'),\n",
       " ('05.03.01',\n",
       "  'http://fgosvo.ru/fgosvo/downloads/1496/?f=%2Fuploadfiles%2FProjFGOSVO3%2B%2B%2FBak3%2B%2B%2F050301_B_3plus_17112017.pdf'),\n",
       " ('05.03.02',\n",
       "  'http://fgosvo.ru/fgosvo/downloads/1497/?f=%2Fuploadfiles%2FProjFGOSVO3%2B%2B%2FBak3%2B%2B%2F050302_B_3plus_17112017.pdf'),\n",
       " ('05.03.03',\n",
       "  'http://fgosvo.ru/fgosvo/downloads/1498/?f=%2Fuploadfiles%2FProjFGOSVO3%2B%2B%2FBak3%2B%2B%2F050303_B_3plus_17112017.pdf'),\n",
       " ('05.03.04',\n",
       "  'http://fgosvo.ru/fgosvo/downloads/1499/?f=%2Fuploadfiles%2FProjFGOSVO3%2B%2B%2FBak3%2B%2B%2F050304_B_3plus_17112017.pdf'),\n",
       " ('05.03.05',\n",
       "  'http://fgosvo.ru/fgosvo/downloads/1562/?f=%2Fuploadfiles%2FProjFGOSVO3%2B%2B%2FBak3%2B%2B%2F050305_3plus_B_01122017.pdf'),\n",
       " ('05.03.06',\n",
       "  'http://fgosvo.ru/fgosvo/downloads/1500/?f=%2Fuploadfiles%2FProjFGOSVO3%2B%2B%2FBak3%2B%2B%2F050306_B_3plus_17112017.pdf'),\n",
       " ('06.03.01',\n",
       "  'http://fgosvo.ru/fgosvo/downloads/1508/?f=%2Fuploadfiles%2FProjFGOSVO3%2B%2B%2FBak3%2B%2B%2F060301_B_3plus_17112017.pdf'),\n",
       " ('06.03.02',\n",
       "  'http://fgosvo.ru/fgosvo/downloads/1509/?f=%2Fuploadfiles%2FProjFGOSVO3%2B%2B%2FBak3%2B%2B%2F060302_B_3plus_17112017.pdf'),\n",
       " ('07.03.01',\n",
       "  'http://fgosvo.ru/fgosvo/downloads/1085/?f=%2Fuploadfiles%2FProjFGOSVO3%2B%2B%2FBak3%2B%2B%2F070301_B_3plus_05052017.pdf'),\n",
       " ('07.03.02',\n",
       "  'http://fgosvo.ru/fgosvo/downloads/1086/?f=%2Fuploadfiles%2FProjFGOSVO3%2B%2B%2FBak3%2B%2B%2F070302_B_3plus_05052017.pdf'),\n",
       " ('07.03.03',\n",
       "  'http://fgosvo.ru/fgosvo/downloads/1087/?f=%2Fuploadfiles%2FProjFGOSVO3%2B%2B%2FBak3%2B%2B%2F070303_B_3plus_05052017.pdf'),\n",
       " ('07.03.04',\n",
       "  'http://fgosvo.ru/fgosvo/downloads/1088/?f=%2Fuploadfiles%2FProjFGOSVO3%2B%2B%2FBak3%2B%2B%2F070304_B_3plus_05052017.pdf'),\n",
       " ('08.03.01',\n",
       "  'http://fgosvo.ru/fgosvo/downloads/1093/?f=%2Fuploadfiles%2FProjFGOSVO3%2B%2B%2FBak3%2B%2B%2F080301_B_3plus_05052017.pdf'),\n",
       " ('09.03.01',\n",
       "  'http://fgosvo.ru/fgosvo/downloads/983/?f=%2Fuploadfiles%2FProjFGOSVO3%2B%2B%2FBak3%2B%2B%2F090301_B_3plus_21062017.pdf'),\n",
       " ('09.03.02',\n",
       "  'http://fgosvo.ru/fgosvo/downloads/984/?f=%2Fuploadfiles%2FProjFGOSVO3%2B%2B%2FBak3%2B%2B%2F090302_B_3plus_21062017.pdf'),\n",
       " ('09.03.03',\n",
       "  'http://fgosvo.ru/fgosvo/downloads/985/?f=%2Fuploadfiles%2FProjFGOSVO3%2B%2B%2FBak3%2B%2B%2F090303_B_3plus_21062017.pdf'),\n",
       " ('09.03.04',\n",
       "  'http://fgosvo.ru/fgosvo/downloads/986/?f=%2Fuploadfiles%2FProjFGOSVO3%2B%2B%2FBak3%2B%2B%2F090304_B_3plus_21062017.pdf'),\n",
       " ('10.03.01',\n",
       "  'http://fgosvo.ru/fgosvo/downloads/1665/?f=%2Fuploadfiles%2FProjFGOSVO3%2B%2B%2FBak3%2B%2B%2F100301_B_3plus_21032018.pdf'),\n",
       " ('11.03.01',\n",
       "  'http://fgosvo.ru/fgosvo/downloads/962/?f=%2Fuploadfiles%2FProjFGOSVO3%2B%2B%2FBak3%2B%2B%2F110301_B_3plus_21062017.pdf'),\n",
       " ('11.03.02',\n",
       "  'http://fgosvo.ru/fgosvo/downloads/997/?f=%2Fuploadfiles%2FProjFGOSVO3%2B%2B%2FBak3%2B%2B%2F110302_B_3plus_21062017.pdf'),\n",
       " ('11.03.03',\n",
       "  'http://fgosvo.ru/fgosvo/downloads/963/?f=%2Fuploadfiles%2FProjFGOSVO3%2B%2B%2FBak3%2B%2B%2F110303_B_3plus_21062017.pdf'),\n",
       " ('11.03.04',\n",
       "  'http://fgosvo.ru/fgosvo/downloads/964/?f=%2Fuploadfiles%2FProjFGOSVO3%2B%2B%2FBak3%2B%2B%2F110304_B_3plus_21062017.pdf'),\n",
       " ('12.03.01',\n",
       "  'http://fgosvo.ru/fgosvo/downloads/972/?f=%2Fuploadfiles%2FProjFGOSVO3%2B%2B%2FBak3%2B%2B%2F120301_B_3plus_07082017.pdf'),\n",
       " ('12.03.02',\n",
       "  'http://fgosvo.ru/fgosvo/downloads/971/?f=%2Fuploadfiles%2FProjFGOSVO3%2B%2B%2FBak3%2B%2B%2F120302_B_3plus_07082017.pdf'),\n",
       " ('12.03.03',\n",
       "  'http://fgosvo.ru/fgosvo/downloads/973/?f=%2Fuploadfiles%2FProjFGOSVO3%2B%2B%2FBak3%2B%2B%2F120303_B_3plus_07082017.pdf'),\n",
       " ('12.03.04',\n",
       "  'http://fgosvo.ru/fgosvo/downloads/974/?f=%2Fuploadfiles%2FProjFGOSVO3%2B%2B%2FBak3%2B%2B%2F120304_B_3plus_07082017.pdf'),\n",
       " ('12.03.05',\n",
       "  'http://fgosvo.ru/fgosvo/downloads/975/?f=%2Fuploadfiles%2FProjFGOSVO3%2B%2B%2FBak3%2B%2B%2F120305_B_3plus_07082017.pdf'),\n",
       " ('13.03.01',\n",
       "  'http://fgosvo.ru/fgosvo/downloads/1071/?f=%2Fuploadfiles%2FProjFGOSVO3%2B%2B%2FBak3%2B%2B%2F130301_B_3plus_21112017.pdf'),\n",
       " ('13.03.02',\n",
       "  'http://fgosvo.ru/fgosvo/downloads/1072/?f=%2Fuploadfiles%2FProjFGOSVO3%2B%2B%2FBak3%2B%2B%2F130302_B_3plus_21112017.pdf'),\n",
       " ('13.03.03',\n",
       "  'http://fgosvo.ru/fgosvo/downloads/1073/?f=%2Fuploadfiles%2FProjFGOSVO3%2B%2B%2FBak3%2B%2B%2F130303_B_3plus_21112017.pdf'),\n",
       " ('14.03.01',\n",
       "  'http://fgosvo.ru/fgosvo/downloads/1077/?f=%2Fuploadfiles%2FProjFGOSVO3%2B%2B%2FBak3%2B%2B%2F140301_B_3plus_15012018.pdf'),\n",
       " ('14.03.02',\n",
       "  'http://fgosvo.ru/fgosvo/downloads/1078/?f=%2Fuploadfiles%2FProjFGOSVO3%2B%2B%2FBak3%2B%2B%2F140302_B_3plus_15012018.pdf'),\n",
       " ('15.03.01',\n",
       "  'http://fgosvo.ru/fgosvo/downloads/1527/?f=%2Fuploadfiles%2FProjFGOSVO3%2B%2B%2FBak3%2B%2B%2F150301_B_3plus_23112017.pdf'),\n",
       " ('15.03.02',\n",
       "  'http://fgosvo.ru/fgosvo/downloads/1528/?f=%2Fuploadfiles%2FProjFGOSVO3%2B%2B%2FBak3%2B%2B%2F150302_B_3plus_23112017.pdf'),\n",
       " ('15.03.03',\n",
       "  'http://fgosvo.ru/fgosvo/downloads/1529/?f=%2Fuploadfiles%2FProjFGOSVO3%2B%2B%2FBak3%2B%2B%2F150303_B_3plus_23112017.pdf'),\n",
       " ('15.03.04',\n",
       "  'http://fgosvo.ru/fgosvo/downloads/1530/?f=%2Fuploadfiles%2FProjFGOSVO3%2B%2B%2FBak3%2B%2B%2F150304_B_3plus_23112017.pdf'),\n",
       " ('15.03.05',\n",
       "  'http://fgosvo.ru/fgosvo/downloads/1531/?f=%2Fuploadfiles%2FProjFGOSVO3%2B%2B%2FBak3%2B%2B%2F150305_B_3plus_23112017.pdf'),\n",
       " ('15.03.06',\n",
       "  'http://fgosvo.ru/fgosvo/downloads/1532/?f=%2Fuploadfiles%2FProjFGOSVO3%2B%2B%2FBak3%2B%2B%2F150306_B_3plus_23112017.pdf'),\n",
       " ('16.03.01',\n",
       "  'http://fgosvo.ru/fgosvo/downloads/1163/?f=%2Fuploadfiles%2FProjFGOSVO3%2B%2B%2FBak3%2B%2B%2F160301_B_3plus_21112017.pdf'),\n",
       " ('16.03.02',\n",
       "  'http://fgosvo.ru/fgosvo/downloads/1164/?f=%2Fuploadfiles%2FProjFGOSVO3%2B%2B%2FBak3%2B%2B%2F160302_B_3plus_21112017.pdf'),\n",
       " ('16.03.03',\n",
       "  'http://fgosvo.ru/fgosvo/downloads/1165/?f=%2Fuploadfiles%2FProjFGOSVO3%2B%2B%2FBak3%2B%2B%2F160303_B_3plus_21112017.pdf'),\n",
       " ('18.03.01',\n",
       "  'http://fgosvo.ru/fgosvo/downloads/1170/?f=%2Fuploadfiles%2FProjFGOSVO3%2B%2B%2FBak3%2B%2B%2F180301_B_3plus_16012018.pdf'),\n",
       " ('18.03.02',\n",
       "  'http://fgosvo.ru/fgosvo/downloads/1171/?f=%2Fuploadfiles%2FProjFGOSVO3%2B%2B%2FBak3%2B%2B%2F180302_B_3plus_16012018.pdf'),\n",
       " ('19.03.01',\n",
       "  'http://fgosvo.ru/fgosvo/downloads/1288/?f=%2Fuploadfiles%2FProjFGOSVO3%2B%2B%2FBak3%2B%2B%2F190301_B_16012018.pdf'),\n",
       " ('19.03.02',\n",
       "  'http://fgosvo.ru/fgosvo/downloads/1248/?f=%2Fuploadfiles%2FProjFGOSVO3%2B%2B%2FBak3%2B%2B%2F190302_B_16012018.pdf'),\n",
       " ('19.03.03',\n",
       "  'http://fgosvo.ru/fgosvo/downloads/1249/?f=%2Fuploadfiles%2FProjFGOSVO3%2B%2B%2FBak3%2B%2B%2F190303_B_16012018.pdf'),\n",
       " ('19.03.04',\n",
       "  'http://fgosvo.ru/fgosvo/downloads/1250/?f=%2Fuploadfiles%2FProjFGOSVO3%2B%2B%2FBak3%2B%2B%2F190304_B_16012018.pdf'),\n",
       " ('20.03.01',\n",
       "  'http://fgosvo.ru/fgosvo/downloads/1317/?f=%2Fuploadfiles%2FProjFGOSVO3%2B%2B%2FBak3%2B%2B%2F200301_B_3plus_16012018.pdf'),\n",
       " ('20.03.02',\n",
       "  'http://fgosvo.ru/fgosvo/downloads/1318/?f=%2Fuploadfiles%2FProjFGOSVO3%2B%2B%2FBak3%2B%2B%2F200302_B_3plus_16012018.pdf'),\n",
       " ('21.03.01',\n",
       "  'http://fgosvo.ru/fgosvo/downloads/1177/?f=%2Fuploadfiles%2FProjFGOSVO3%2B%2B%2FBak3%2B%2B%2F210301_B_3plus_21112017.pdf'),\n",
       " ('21.03.02',\n",
       "  'http://fgosvo.ru/fgosvo/downloads/1324/?f=%2Fuploadfiles%2FProjFGOSVO3%2B%2B%2FBak3%2B%2B%2F210302_B_3plus_21112017.pdf'),\n",
       " ('21.03.03',\n",
       "  'http://fgosvo.ru/fgosvo/downloads/1178/?f=%2Fuploadfiles%2FProjFGOSVO3%2B%2B%2FBak3%2B%2B%2F210303_B_3plus_21112017.pdf'),\n",
       " ('22.03.01',\n",
       "  'http://fgosvo.ru/fgosvo/downloads/1256/?f=%2Fuploadfiles%2FProjFGOSVO3%2B%2B%2FBak3%2B%2B%2F220301_B_3plus_16012018.pdf'),\n",
       " ('22.03.02',\n",
       "  'http://fgosvo.ru/fgosvo/downloads/1187/?f=%2Fuploadfiles%2FProjFGOSVO3%2B%2B%2FBak3%2B%2B%2F220302_B_3plus_16012018.pdf'),\n",
       " ('23.03.01',\n",
       "  'http://fgosvo.ru/fgosvo/downloads/1097/?f=%2Fuploadfiles%2FProjFGOSVO3%2B%2B%2FBak3%2B%2B%2F230301_B_3plus_21112017.pdf'),\n",
       " ('23.03.02',\n",
       "  'http://fgosvo.ru/fgosvo/downloads/1098/?f=%2Fuploadfiles%2FProjFGOSVO3%2B%2B%2FBak3%2B%2B%2F230302_B_3plus_21112017.pdf'),\n",
       " ('23.03.03',\n",
       "  'http://fgosvo.ru/fgosvo/downloads/1099/?f=%2Fuploadfiles%2FProjFGOSVO3%2B%2B%2FBak3%2B%2B%2F230303_B_3plus_21112017.pdf'),\n",
       " ('24.03.01',\n",
       "  'http://fgosvo.ru/fgosvo/downloads/1289/?f=%2Fuploadfiles%2FProjFGOSVO3%2B%2B%2FBak3%2B%2B%2F240301_B_3plus_21112017.pdf'),\n",
       " ('24.03.02',\n",
       "  'http://fgosvo.ru/fgosvo/downloads/1290/?f=%2Fuploadfiles%2FProjFGOSVO3%2B%2B%2FBak3%2B%2B%2F240302_B_3plus_21112017.pdf'),\n",
       " ('24.03.03',\n",
       "  'http://fgosvo.ru/fgosvo/downloads/1291/?f=%2Fuploadfiles%2FProjFGOSVO3%2B%2B%2FBak3%2B%2B%2F240303_B_3plus_21112017.pdf'),\n",
       " ('24.03.04',\n",
       "  'http://fgosvo.ru/fgosvo/downloads/1416/?f=%2Fuploadfiles%2FProjFGOSVO3%2B%2B%2FBak3%2B%2B%2F240304_B_3plus_21112017.pdf'),\n",
       " ('24.03.05',\n",
       "  'http://fgosvo.ru/fgosvo/downloads/1292/?f=%2Fuploadfiles%2FProjFGOSVO3%2B%2B%2FBak3%2B%2B%2F240305_B_3plus_21112017.pdf'),\n",
       " ('25.03.01',\n",
       "  'http://fgosvo.ru/fgosvo/downloads/1301/?f=%2Fuploadfiles%2FProjFGOSVO3%2B%2B%2FBak3%2B%2B%2F250301_B_3plus_21112017.pdf'),\n",
       " ('25.03.02',\n",
       "  'http://fgosvo.ru/fgosvo/downloads/1302/?f=%2Fuploadfiles%2FProjFGOSVO3%2B%2B%2FBak3%2B%2B%2F250302_B_3plus_21112017.pdf'),\n",
       " ('25.03.03',\n",
       "  'http://fgosvo.ru/fgosvo/downloads/1303/?f=%2Fuploadfiles%2FProjFGOSVO3%2B%2B%2FBak3%2B%2B%2F250303_B_3plus_21112017.pdf'),\n",
       " ('25.03.04',\n",
       "  'http://fgosvo.ru/fgosvo/downloads/1304/?f=%2Fuploadfiles%2FProjFGOSVO3%2B%2B%2FBak3%2B%2B%2F250304_B_3plus_21112017.pdf'),\n",
       " ('26.03.01',\n",
       "  'http://fgosvo.ru/fgosvo/downloads/1514/?f=%2Fuploadfiles%2FProjFGOSVO3%2B%2B%2FBak3%2B%2B%2F260301_B_3plus_21112017.pdf'),\n",
       " ('26.03.02',\n",
       "  'http://fgosvo.ru/fgosvo/downloads/1260/?f=%2Fuploadfiles%2FProjFGOSVO3%2B%2B%2FBak3%2B%2B%2F260302_B_3plus_17012018.pdf'),\n",
       " ('26.03.03',\n",
       "  'http://fgosvo.ru/fgosvo/downloads/1316/?f=%2Fuploadfiles%2FProjFGOSVO3%2B%2B%2FBak3%2B%2B%2F260303_B_3plus_12022018.pdf'),\n",
       " ('27.03.01',\n",
       "  'http://fgosvo.ru/fgosvo/downloads/1269/?f=%2Fuploadfiles%2FProjFGOSVO3%2B%2B%2FBak3%2B%2B%2F270301_B_3plus_21112017.pdf'),\n",
       " ('27.03.02',\n",
       "  'http://fgosvo.ru/fgosvo/downloads/1270/?f=%2Fuploadfiles%2FProjFGOSVO3%2B%2B%2FBak3%2B%2B%2F270302_B_3plus_21112017.pdf'),\n",
       " ('27.03.03',\n",
       "  'http://fgosvo.ru/fgosvo/downloads/1271/?f=%2Fuploadfiles%2FProjFGOSVO3%2B%2B%2FBak3%2B%2B%2F270303_B_3plus_21112017.pdf'),\n",
       " ('27.03.04',\n",
       "  'http://fgosvo.ru/fgosvo/downloads/1272/?f=%2Fuploadfiles%2FProjFGOSVO3%2B%2B%2FBak3%2B%2B%2F270304_B_3plus_21112017.pdf'),\n",
       " ('27.03.05',\n",
       "  'http://fgosvo.ru/fgosvo/downloads/1273/?f=%2Fuploadfiles%2FProjFGOSVO3%2B%2B%2FBak3%2B%2B%2F270305_B_3plus_21112017.pdf'),\n",
       " ('28.03.01',\n",
       "  'http://fgosvo.ru/fgosvo/downloads/1189/?f=%2Fuploadfiles%2FProjFGOSVO3%2B%2B%2FBak3%2B%2B%2F280301_B_3plus_07082017.pdf'),\n",
       " ('28.03.02',\n",
       "  'http://fgosvo.ru/fgosvo/downloads/1190/?f=%2Fuploadfiles%2FProjFGOSVO3%2B%2B%2FBak3%2B%2B%2F280302_B_3plus_07082017.pdf'),\n",
       " ('28.03.03',\n",
       "  'http://fgosvo.ru/fgosvo/downloads/1191/?f=%2Fuploadfiles%2FProjFGOSVO3%2B%2B%2FBak3%2B%2B%2F280303_B_3plus_07082017.pdf'),\n",
       " ('29.03.01',\n",
       "  'http://fgosvo.ru/fgosvo/downloads/1196/?f=%2Fuploadfiles%2FProjFGOSVO3%2B%2B%2FBak3%2B%2B%2F290301_3plus_17072017.pdf'),\n",
       " ('29.03.02',\n",
       "  'http://fgosvo.ru/fgosvo/downloads/1197/?f=%2Fuploadfiles%2FProjFGOSVO3%2B%2B%2FBak3%2B%2B%2F290302_3plus_17072017.pdf'),\n",
       " ('29.03.03',\n",
       "  'http://fgosvo.ru/fgosvo/downloads/1198/?f=%2Fuploadfiles%2FProjFGOSVO3%2B%2B%2FBak3%2B%2B%2F290303_3plus_17072017.pdf'),\n",
       " ('29.03.04',\n",
       "  'http://fgosvo.ru/fgosvo/downloads/1199/?f=%2Fuploadfiles%2FProjFGOSVO3%2B%2B%2FBak3%2B%2B%2F290304_3plus_17072017.pdf'),\n",
       " ('29.03.05',\n",
       "  'http://fgosvo.ru/fgosvo/downloads/1200/?f=%2Fuploadfiles%2FProjFGOSVO3%2B%2B%2FBak3%2B%2B%2F290305_3plus_17072017.pdf'),\n",
       " ('34.03.01',\n",
       "  'http://fgosvo.ru/fgosvo/downloads/1258/?f=%2Fuploadfiles%2FProjFGOSVO3%2B%2B%2FBak3%2B%2B%2F340301_B_15052017.pdf'),\n",
       " ('35.03.01',\n",
       "  'http://fgosvo.ru/fgosvo/downloads/1025/?f=%2Fuploadfiles%2FProjFGOSVO3%2B%2B%2FBak3%2B%2B%2F350301_B_3plus_21062017.pdf'),\n",
       " ('35.03.02',\n",
       "  'http://fgosvo.ru/fgosvo/downloads/1026/?f=%2Fuploadfiles%2FProjFGOSVO3%2B%2B%2FBak3%2B%2B%2F350302_B_3plus_21062017.pdf'),\n",
       " ('35.03.03',\n",
       "  'http://fgosvo.ru/fgosvo/downloads/1027/?f=%2Fuploadfiles%2FProjFGOSVO3%2B%2B%2FBak3%2B%2B%2F350303_B_3plus_21062017.pdf'),\n",
       " ('35.03.04',\n",
       "  'http://fgosvo.ru/fgosvo/downloads/1028/?f=%2Fuploadfiles%2FProjFGOSVO3%2B%2B%2FBak3%2B%2B%2F350304_B_3plus_21062017.pdf'),\n",
       " ('35.03.05',\n",
       "  'http://fgosvo.ru/fgosvo/downloads/1029/?f=%2Fuploadfiles%2FProjFGOSVO3%2B%2B%2FBak3%2B%2B%2F350305_B_3plus_21062017.pdf'),\n",
       " ('35.03.06',\n",
       "  'http://fgosvo.ru/fgosvo/downloads/1030/?f=%2Fuploadfiles%2FProjFGOSVO3%2B%2B%2FBak3%2B%2B%2F350306_B_3plus_21062017.pdf'),\n",
       " ('35.03.07',\n",
       "  'http://fgosvo.ru/fgosvo/downloads/1031/?f=%2Fuploadfiles%2FProjFGOSVO3%2B%2B%2FBak3%2B%2B%2F350307_B_3plus_21062017.pdf'),\n",
       " ('35.03.08',\n",
       "  'http://fgosvo.ru/fgosvo/downloads/1032/?f=%2Fuploadfiles%2FProjFGOSVO3%2B%2B%2FBak3%2B%2B%2F350308_B_3plus_21062017.pdf'),\n",
       " ('35.03.09',\n",
       "  'http://fgosvo.ru/fgosvo/downloads/1034/?f=%2Fuploadfiles%2FProjFGOSVO3%2B%2B%2FBak3%2B%2B%2F350309_B_3plus_21062017.pdf'),\n",
       " ('35.03.10',\n",
       "  'http://fgosvo.ru/fgosvo/downloads/1035/?f=%2Fuploadfiles%2FProjFGOSVO3%2B%2B%2FBak3%2B%2B%2F350310_B_3plus_21062017.pdf'),\n",
       " ('36.03.01',\n",
       "  'http://fgosvo.ru/fgosvo/downloads/1283/?f=%2Fuploadfiles%2FProjFGOSVO3%2B%2B%2FBak3%2B%2B%2F360301_B_21062017.pdf'),\n",
       " ('36.03.02',\n",
       "  'http://fgosvo.ru/fgosvo/downloads/1284/?f=%2Fuploadfiles%2FProjFGOSVO3%2B%2B%2FBak3%2B%2B%2F360302_B_21062017.pdf'),\n",
       " ('37.03.01',\n",
       "  'http://fgosvo.ru/fgosvo/downloads/1234/?f=%2Fuploadfiles%2FProjFGOSVO3%2B%2B%2FBak3%2B%2B%2F370301_B_3plus_21112017.pdf'),\n",
       " ('37.03.02',\n",
       "  'http://fgosvo.ru/fgosvo/downloads/1235/?f=%2Fuploadfiles%2FProjFGOSVO3%2B%2B%2FBak3%2B%2B%2F370302_B_3plus_21112017.pdf'),\n",
       " ('38.03.01',\n",
       "  'http://fgosvo.ru/fgosvo/downloads/1540/?f=%2Fuploadfiles%2FProjFGOSVO3%2B%2B%2FBak3%2B%2B%2F380301_B_3plus_23112017.pdf'),\n",
       " ('38.03.02',\n",
       "  'http://fgosvo.ru/fgosvo/downloads/1541/?f=%2Fuploadfiles%2FProjFGOSVO3%2B%2B%2FBak3%2B%2B%2F380302_B_3plus_23112017.pdf'),\n",
       " ('38.03.03',\n",
       "  'http://fgosvo.ru/fgosvo/downloads/1542/?f=%2Fuploadfiles%2FProjFGOSVO3%2B%2B%2FBak3%2B%2B%2F380303_B_3plus_23112017.pdf'),\n",
       " ('38.03.04',\n",
       "  'http://fgosvo.ru/fgosvo/downloads/1543/?f=%2Fuploadfiles%2FProjFGOSVO3%2B%2B%2FBak3%2B%2B%2F380304_B_3plus_23112017.pdf'),\n",
       " ('38.03.05',\n",
       "  'http://fgosvo.ru/fgosvo/downloads/1544/?f=%2Fuploadfiles%2FProjFGOSVO3%2B%2B%2FBak3%2B%2B%2F380305_B_3plus_23112017.pdf'),\n",
       " ('38.03.06',\n",
       "  'http://fgosvo.ru/fgosvo/downloads/1545/?f=%2Fuploadfiles%2FProjFGOSVO3%2B%2B%2FBak3%2B%2B%2F380306_B_3plus_23112017.pdf'),\n",
       " ('38.03.07',\n",
       "  'http://fgosvo.ru/fgosvo/downloads/1546/?f=%2Fuploadfiles%2FProjFGOSVO3%2B%2B%2FBak3%2B%2B%2F380307_B_3plus_23112017.pdf'),\n",
       " ('38.03.10',\n",
       "  'http://fgosvo.ru/fgosvo/downloads/1547/?f=%2Fuploadfiles%2FProjFGOSVO3%2B%2B%2FBak3%2B%2B%2F380310_B_3plus_23112017.pdf'),\n",
       " ('38.04.03',\n",
       "  'http://fgosvo.ru/fgosvo/downloads/1550/?f=%2Fuploadfiles%2FProjFGOSVO3%2B%2B%2FMag3%2B%2B%2F380403_M_3plus_23112017.pdf'),\n",
       " ('39.03.01',\n",
       "  'http://fgosvo.ru/fgosvo/downloads/1326/?f=%2Fuploadfiles%2FProjFGOSVO3%2B%2B%2FBak3%2B%2B%2F390301_B_3plus_22112017.pdf'),\n",
       " ('39.03.02',\n",
       "  'http://fgosvo.ru/fgosvo/downloads/1327/?f=%2Fuploadfiles%2FProjFGOSVO3%2B%2B%2FBak3%2B%2B%2F390302_B_3plus_22112017.pdf'),\n",
       " ('39.03.03',\n",
       "  'http://fgosvo.ru/fgosvo/downloads/1525/?f=%2Fuploadfiles%2FProjFGOSVO3%2B%2B%2FBak3%2B%2B%2F390303_B_3plus_22112017.pdf'),\n",
       " ('40.03.01',\n",
       "  'http://fgosvo.ru/fgosvo/downloads/1560/?f=%2Fuploadfiles%2FProjFGOSVO3%2B%2B%2FBak3%2B%2B%2F400301_B_3plus_23112017.pdf'),\n",
       " ('41.03.01',\n",
       "  'http://fgosvo.ru/fgosvo/downloads/1111/?f=%2Fuploadfiles%2FProjFGOSVO3%2B%2B%2FBak3%2B%2B%2F410301_B_3plus_05052017.pdf'),\n",
       " ('41.03.04',\n",
       "  'http://fgosvo.ru/fgosvo/downloads/981/?f=%2Fuploadfiles%2FProjFGOSVO3%2B%2B%2FBak3%2B%2B%2F410304_B_21062017.pdf'),\n",
       " ('41.03.05',\n",
       "  'http://fgosvo.ru/fgosvo/downloads/1113/?f=%2Fuploadfiles%2FProjFGOSVO3%2B%2B%2FBak3%2B%2B%2F410305_B_3plus_05052017.pdf'),\n",
       " ('41.03.06',\n",
       "  'http://fgosvo.ru/fgosvo/downloads/1114/?f=%2Fuploadfiles%2FProjectsFGOSVO%2FBAK%2F410306_B_3plus_22052018.pdf'),\n",
       " ('42.03.01',\n",
       "  'http://fgosvo.ru/fgosvo/downloads/1119/?f=%2Fuploadfiles%2FProjFGOSVO3%2B%2B%2FBak3%2B%2B%2F420301_B_3plus_05052017.pdf'),\n",
       " ('42.03.02',\n",
       "  'http://fgosvo.ru/fgosvo/downloads/1120/?f=%2Fuploadfiles%2FProjFGOSVO3%2B%2B%2FBak3%2B%2B%2F420302_B_3plus_05052017.pdf'),\n",
       " ('42.03.03',\n",
       "  'http://fgosvo.ru/fgosvo/downloads/1121/?f=%2Fuploadfiles%2FProjFGOSVO3%2B%2B%2FBak3%2B%2B%2F420303_B_3plus_05052017.pdf'),\n",
       " ('42.03.04',\n",
       "  'http://fgosvo.ru/fgosvo/downloads/1122/?f=%2Fuploadfiles%2FProjFGOSVO3%2B%2B%2FBak3%2B%2B%2F420304_B_3plus_05052017.pdf'),\n",
       " ('42.03.05',\n",
       "  'http://fgosvo.ru/fgosvo/downloads/1123/?f=%2Fuploadfiles%2FProjFGOSVO3%2B%2B%2FBak3%2B%2B%2F420305_B_3plus_05052017.pdf'),\n",
       " ('43.03.01',\n",
       "  'http://fgosvo.ru/fgosvo/downloads/1129/?f=%2Fuploadfiles%2FProjFGOSVO3%2B%2B%2FBak3%2B%2B%2F430301_B_3plus_05052017.pdf'),\n",
       " ('43.03.02',\n",
       "  'http://fgosvo.ru/fgosvo/downloads/1130/?f=%2Fuploadfiles%2FProjFGOSVO3%2B%2B%2FBak3%2B%2B%2F430302_B_3plus_05052017.pdf'),\n",
       " ('43.03.03',\n",
       "  'http://fgosvo.ru/fgosvo/downloads/1131/?f=%2Fuploadfiles%2FProjFGOSVO3%2B%2B%2FBak3%2B%2B%2F430303_B_3plus_05052017.pdf'),\n",
       " ('44.03.01',\n",
       "  'http://fgosvo.ru/fgosvo/downloads/1206/?f=%2Fuploadfiles%2FProjFGOSVO3%2B%2B%2FBak3%2B%2B%2F440301_B_3plus_22112017.pdf'),\n",
       " ('44.03.02',\n",
       "  'http://fgosvo.ru/fgosvo/downloads/1207/?f=%2Fuploadfiles%2FProjFGOSVO3%2B%2B%2FBak3%2B%2B%2F440302_B_3plus_22112017.pdf'),\n",
       " ('44.03.03',\n",
       "  'http://fgosvo.ru/fgosvo/downloads/1208/?f=%2Fuploadfiles%2FProjFGOSVO3%2B%2B%2FBak3%2B%2B%2F440303_B_3plus_22112017.pdf'),\n",
       " ('44.03.04',\n",
       "  'http://fgosvo.ru/fgosvo/downloads/1526/?f=%2Fuploadfiles%2FProjFGOSVO3%2B%2B%2FBak3%2B%2B%2F440304_B_3plus_22112017.pdf'),\n",
       " ('44.03.05',\n",
       "  'http://fgosvo.ru/fgosvo/downloads/1209/?f=%2Fuploadfiles%2FProjFGOSVO3%2B%2B%2FBak3%2B%2B%2F440305_B_3plus_22112017.pdf'),\n",
       " ('45.03.01',\n",
       "  'http://fgosvo.ru/fgosvo/downloads/1214/?f=%2Fuploadfiles%2FProjFGOSVO3%2B%2B%2FBak3%2B%2B%2F450301_B_3plus_22112017.pdf'),\n",
       " ('45.03.02',\n",
       "  'http://fgosvo.ru/fgosvo/downloads/1215/?f=%2Fuploadfiles%2FProjFGOSVO3%2B%2B%2FBak3%2B%2B%2F450302_B_3plus_22112017.pdf'),\n",
       " ('45.03.03',\n",
       "  'http://fgosvo.ru/fgosvo/downloads/1216/?f=%2Fuploadfiles%2FProjFGOSVO3%2B%2B%2FBak3%2B%2B%2F450303_B_3plus_22112017.pdf'),\n",
       " ('45.03.04',\n",
       "  'http://fgosvo.ru/fgosvo/downloads/1217/?f=%2Fuploadfiles%2FProjFGOSVO3%2B%2B%2FBak3%2B%2B%2F450304_B_3plus_22112017.pdf'),\n",
       " ('46.03.04',\n",
       "  'http://fgosvo.ru/fgosvo/downloads/1331/?f=%2Fuploadfiles%2FProjFGOSVO3%2B%2B%2FBak3%2B%2B%2F460304_B_3plus_18012018.pdf'),\n",
       " ('47.03.01',\n",
       "  'http://fgosvo.ru/fgosvo/downloads/1222/?f=%2Fuploadfiles%2FProjFGOSVO3%2B%2B%2FBak3%2B%2B%2F470301_B_3plus_22112017.pdf'),\n",
       " ('47.03.02',\n",
       "  'http://fgosvo.ru/fgosvo/downloads/1223/?f=%2Fuploadfiles%2FProjFGOSVO3%2B%2B%2FBak3%2B%2B%2F470302_B_3plus_22112017.pdf'),\n",
       " ('47.03.03',\n",
       "  'http://fgosvo.ru/fgosvo/downloads/1224/?f=%2Fuploadfiles%2FProjFGOSVO3%2B%2B%2FBak3%2B%2B%2F470303_B_3plus_22112017.pdf'),\n",
       " ('49.03.01',\n",
       "  'http://fgosvo.ru/fgosvo/downloads/1228/?f=%2Fuploadfiles%2FProjFGOSVO3%2B%2B%2FBak3%2B%2B%2F490301_B_3plus_17072017.pdf'),\n",
       " ('49.03.02',\n",
       "  'http://fgosvo.ru/fgosvo/downloads/1229/?f=%2Fuploadfiles%2FProjFGOSVO3%2B%2B%2FBak3%2B%2B%2F490302_B_3plus_17072017.pdf'),\n",
       " ('49.03.03',\n",
       "  'http://fgosvo.ru/fgosvo/downloads/1230/?f=%2Fuploadfiles%2FProjFGOSVO3%2B%2B%2FBak3%2B%2B%2F490303_B_3plus_17072017.pdf'),\n",
       " ('50.03.01',\n",
       "  'http://fgosvo.ru/fgosvo/downloads/1135/?f=%2Fuploadfiles%2FProjFGOSVO3%2B%2B%2FBak3%2B%2B%2F500301_B_3plus_05052017.pdf'),\n",
       " ('50.03.02',\n",
       "  'http://fgosvo.ru/fgosvo/downloads/1136/?f=%2Fuploadfiles%2FProjFGOSVO3%2B%2B%2FBak3%2B%2B%2F500302_B_3plus_05052017.pdf'),\n",
       " ('50.03.03',\n",
       "  'http://fgosvo.ru/fgosvo/downloads/1137/?f=%2Fuploadfiles%2FProjFGOSVO3%2B%2B%2FBak3%2B%2B%2F500303_B_3plus_05052017.pdf'),\n",
       " ('50.03.04',\n",
       "  'http://fgosvo.ru/fgosvo/downloads/1138/?f=%2Fuploadfiles%2FProjFGOSVO3%2B%2B%2FBak3%2B%2B%2F500304_B_3plus_05052017.pdf'),\n",
       " ('51.03.01',\n",
       "  'http://fgosvo.ru/fgosvo/downloads/1006/?f=%2Fuploadfiles%2FProjFGOSVO3%2B%2B%2FBak3%2B%2B%2F510301_B_3plus_17072017.pdf'),\n",
       " ('51.03.02',\n",
       "  'http://fgosvo.ru/fgosvo/downloads/1007/?f=%2Fuploadfiles%2FProjFGOSVO3%2B%2B%2FBak3%2B%2B%2F510302_B_3plus_17072017.pdf'),\n",
       " ('51.03.03',\n",
       "  'http://fgosvo.ru/fgosvo/downloads/1008/?f=%2Fuploadfiles%2FProjFGOSVO3%2B%2B%2FBak3%2B%2B%2F510303_B_3plus_17072017.pdf'),\n",
       " ('51.03.04',\n",
       "  'http://fgosvo.ru/fgosvo/downloads/1009/?f=%2Fuploadfiles%2FProjFGOSVO3%2B%2B%2FBak3%2B%2B%2F510304_B_3plus_17072017.pdf'),\n",
       " ('51.03.05',\n",
       "  'http://fgosvo.ru/fgosvo/downloads/1010/?f=%2Fuploadfiles%2FProjFGOSVO3%2B%2B%2FBak3%2B%2B%2F510305_B_3plus_17072017.pdf'),\n",
       " ('51.03.06',\n",
       "  'http://fgosvo.ru/fgosvo/downloads/1011/?f=%2Fuploadfiles%2FProjFGOSVO3%2B%2B%2FBak3%2B%2B%2F510306_B_3plus_17072017.pdf'),\n",
       " ('52.03.01',\n",
       "  'http://fgosvo.ru/fgosvo/downloads/1046/?f=%2Fuploadfiles%2FProjFGOSVO3%2B%2B%2FBak3%2B%2B%2F520301_B_3plus_21062017.pdf'),\n",
       " ('52.03.02',\n",
       "  'http://fgosvo.ru/fgosvo/downloads/1045/?f=%2Fuploadfiles%2FProjFGOSVO3%2B%2B%2FBak3%2B%2B%2F520302_B_3plus_21062017.pdf'),\n",
       " ('52.03.03',\n",
       "  'http://fgosvo.ru/fgosvo/downloads/1047/?f=%2Fuploadfiles%2FProjFGOSVO3%2B%2B%2FBak3%2B%2B%2F520303_B_3plus_21062017.pdf'),\n",
       " ('52.03.04',\n",
       "  'http://fgosvo.ru/fgosvo/downloads/1048/?f=%2Fuploadfiles%2FProjFGOSVO3%2B%2B%2FBak3%2B%2B%2F520304_B_3plus_21062017.pdf'),\n",
       " ('52.03.05',\n",
       "  'http://fgosvo.ru/fgosvo/downloads/1049/?f=%2Fuploadfiles%2FProjFGOSVO3%2B%2B%2FBak3%2B%2B%2F520305_B_3plus_21062017.pdf'),\n",
       " ('52.03.06',\n",
       "  'http://fgosvo.ru/fgosvo/downloads/1050/?f=%2Fuploadfiles%2FProjFGOSVO3%2B%2B%2FBak3%2B%2B%2F520306_B_3plus_21062017.pdf'),\n",
       " ('53.03.01',\n",
       "  'http://fgosvo.ru/fgosvo/downloads/1143/?f=%2Fuploadfiles%2FProjFGOSVO3%2B%2B%2FBak3%2B%2B%2F530301_B_05052017.pdf'),\n",
       " ('53.03.02',\n",
       "  'http://fgosvo.ru/fgosvo/downloads/1144/?f=%2Fuploadfiles%2FProjFGOSVO3%2B%2B%2FBak3%2B%2B%2F530302_B_05052017.pdf'),\n",
       " ('53.03.03',\n",
       "  'http://fgosvo.ru/fgosvo/downloads/1145/?f=%2Fuploadfiles%2FProjFGOSVO3%2B%2B%2FBak3%2B%2B%2F530303_B_05052017.pdf'),\n",
       " ('53.03.04',\n",
       "  'http://fgosvo.ru/fgosvo/downloads/1146/?f=%2Fuploadfiles%2FProjFGOSVO3%2B%2B%2FBak3%2B%2B%2F530304_B_05052017.pdf'),\n",
       " ('53.03.05',\n",
       "  'http://fgosvo.ru/fgosvo/downloads/1147/?f=%2Fuploadfiles%2FProjFGOSVO3%2B%2B%2FBak3%2B%2B%2F530305_B_05052017.pdf'),\n",
       " ('53.03.06',\n",
       "  'http://fgosvo.ru/fgosvo/downloads/1148/?f=%2Fuploadfiles%2FProjFGOSVO3%2B%2B%2FBak3%2B%2B%2F530306_B_05052017.pdf'),\n",
       " ('54.03.01',\n",
       "  'http://fgosvo.ru/fgosvo/downloads/1058/?f=%2Fuploadfiles%2FProjFGOSVO3%2B%2B%2FBak3%2B%2B%2F540301_B_3plus_18012018.pdf'),\n",
       " ('54.03.02',\n",
       "  'http://fgosvo.ru/fgosvo/downloads/1059/?f=%2Fuploadfiles%2FProjFGOSVO3%2B%2B%2FBak3%2B%2B%2F540302_B_3plus_18012018.pdf'),\n",
       " ('54.03.03',\n",
       "  'http://fgosvo.ru/fgosvo/downloads/1060/?f=%2Fuploadfiles%2FProjFGOSVO3%2B%2B%2FBak3%2B%2B%2F540303_B_3plus_18012018.pdf'),\n",
       " ('54.03.04',\n",
       "  'http://fgosvo.ru/fgosvo/downloads/1061/?f=%2Fuploadfiles%2FProjFGOSVO3%2B%2B%2FBak3%2B%2B%2F540304_B_3plus_18012018.pdf')]"
      ]
     },
     "execution_count": 17,
     "metadata": {},
     "output_type": "execute_result"
    }
   ],
   "source": [
    "pdflist"
   ]
  },
  {
   "cell_type": "markdown",
   "metadata": {},
   "source": [
    "**Long story short**, some of the educational programs that I've parsed from minobrnauki reports are simply undocumented..."
   ]
  },
  {
   "cell_type": "code",
   "execution_count": 18,
   "metadata": {},
   "outputs": [
    {
     "data": {
      "text/plain": [
       "['11.04.04', '12.05.01', '04.04.02', '41.04.05', '24.04.01']"
      ]
     },
     "execution_count": 18,
     "metadata": {},
     "output_type": "execute_result"
    }
   ],
   "source": [
    "list(program_codes.difference([code for code, url in pdflist]))[:5]"
   ]
  },
  {
   "cell_type": "code",
   "execution_count": 19,
   "metadata": {},
   "outputs": [
    {
     "name": "stderr",
     "output_type": "stream",
     "text": [
      "1it [00:04,  4.16s/it]"
     ]
    },
    {
     "name": "stdout",
     "output_type": "stream",
     "text": [
      "Finished downloading programs/01.03.01.pdf\n",
      "Finished downloading programs/01.03.02.pdf\n",
      "Finished downloading programs/01.03.03.pdf\n",
      "Finished downloading programs/01.03.04.pdf\n"
     ]
    },
    {
     "name": "stderr",
     "output_type": "stream",
     "text": [
      "\r",
      "5it [00:05,  3.04s/it]"
     ]
    },
    {
     "name": "stdout",
     "output_type": "stream",
     "text": [
      "Finished downloading programs/02.03.01.pdf\n"
     ]
    },
    {
     "name": "stderr",
     "output_type": "stream",
     "text": [
      "\r",
      "6it [00:06,  2.20s/it]"
     ]
    },
    {
     "name": "stdout",
     "output_type": "stream",
     "text": [
      "Finished downloading programs/02.03.02.pdf\n"
     ]
    },
    {
     "name": "stderr",
     "output_type": "stream",
     "text": [
      "\r",
      "7it [00:08,  2.24s/it]"
     ]
    },
    {
     "name": "stdout",
     "output_type": "stream",
     "text": [
      "Finished downloading programs/02.03.03.pdf\n",
      "Finished downloading programs/03.03.01.pdf\n",
      "Finished downloading programs/03.03.02.pdf\n",
      "Finished downloading programs/03.03.03.pdf\n"
     ]
    },
    {
     "name": "stderr",
     "output_type": "stream",
     "text": [
      "\r",
      "11it [00:09,  1.67s/it]"
     ]
    },
    {
     "name": "stdout",
     "output_type": "stream",
     "text": [
      "Finished downloading programs/04.03.01.pdf\n",
      "Finished downloading programs/04.03.02.pdf\n",
      "Finished downloading programs/05.03.01.pdf\n"
     ]
    },
    {
     "name": "stderr",
     "output_type": "stream",
     "text": [
      "\r",
      "14it [00:11,  1.31s/it]"
     ]
    },
    {
     "name": "stdout",
     "output_type": "stream",
     "text": [
      "Finished downloading programs/05.03.02.pdf\n",
      "Finished downloading programs/05.03.03.pdf\n",
      "Finished downloading programs/05.03.04.pdf\n"
     ]
    },
    {
     "name": "stderr",
     "output_type": "stream",
     "text": [
      "18it [00:11,  1.41it/s]"
     ]
    },
    {
     "name": "stdout",
     "output_type": "stream",
     "text": [
      "Finished downloading programs/05.03.05.pdf\n",
      "Finished downloading programs/05.03.06.pdf\n"
     ]
    },
    {
     "name": "stderr",
     "output_type": "stream",
     "text": [
      "\r",
      "19it [00:14,  1.47s/it]"
     ]
    },
    {
     "name": "stdout",
     "output_type": "stream",
     "text": [
      "Finished downloading programs/06.03.01.pdf\n",
      "Finished downloading programs/06.03.02.pdf\n",
      "Finished downloading programs/07.03.01.pdf\n",
      "Finished downloading programs/07.03.02.pdf\n",
      "Finished downloading programs/07.03.03.pdf\n",
      "Finished downloading programs/07.03.04.pdf\n"
     ]
    },
    {
     "name": "stderr",
     "output_type": "stream",
     "text": [
      "\r",
      "25it [00:15,  1.05s/it]"
     ]
    },
    {
     "name": "stdout",
     "output_type": "stream",
     "text": [
      "Finished downloading programs/08.03.01.pdf\n",
      "Finished downloading programs/09.03.01.pdf\n"
     ]
    },
    {
     "name": "stderr",
     "output_type": "stream",
     "text": [
      "\r",
      "27it [00:16,  1.01it/s]"
     ]
    },
    {
     "name": "stdout",
     "output_type": "stream",
     "text": [
      "Finished downloading programs/09.03.02.pdf\n"
     ]
    },
    {
     "name": "stderr",
     "output_type": "stream",
     "text": [
      "\r",
      "28it [00:18,  1.27s/it]"
     ]
    },
    {
     "name": "stdout",
     "output_type": "stream",
     "text": [
      "Finished downloading programs/09.03.03.pdf\n",
      "Finished downloading programs/09.03.04.pdf\n",
      "Finished downloading programs/10.03.01.pdf\n",
      "Finished downloading programs/11.03.01.pdf\n"
     ]
    },
    {
     "name": "stderr",
     "output_type": "stream",
     "text": [
      "\r",
      "32it [02:29, 10.71s/it]"
     ]
    },
    {
     "name": "stdout",
     "output_type": "stream",
     "text": [
      "Finished downloading programs/11.03.02.pdf\n",
      "Finished downloading programs/11.03.03.pdf\n",
      "Finished downloading programs/11.03.04.pdf\n",
      "Finished downloading programs/12.03.01.pdf\n",
      "Finished downloading programs/12.03.02.pdf\n",
      "Finished downloading programs/12.03.03.pdf\n",
      "Finished downloading programs/12.03.04.pdf\n",
      "Finished downloading programs/12.03.05.pdf\n",
      "Finished downloading programs/13.03.01.pdf\n",
      "Finished downloading programs/13.03.02.pdf\n",
      "Finished downloading programs/13.03.03.pdf\n",
      "Finished downloading programs/14.03.01.pdf\n",
      "Finished downloading programs/14.03.02.pdf\n",
      "Finished downloading programs/15.03.01.pdf\n",
      "Finished downloading programs/15.03.02.pdf\n",
      "Finished downloading programs/15.03.03.pdf\n",
      "Finished downloading programs/15.03.04.pdf\n",
      "Finished downloading programs/15.03.05.pdf\n",
      "Finished downloading programs/15.03.06.pdf\n",
      "Finished downloading programs/16.03.01.pdf\n",
      "Finished downloading programs/16.03.02.pdf\n",
      "Finished downloading programs/16.03.03.pdf\n",
      "Finished downloading programs/18.03.01.pdf\n",
      "Finished downloading programs/18.03.02.pdf\n",
      "Finished downloading programs/19.03.01.pdf\n",
      "Finished downloading programs/19.03.02.pdf\n",
      "Finished downloading programs/19.03.03.pdf\n",
      "Finished downloading programs/19.03.04.pdf\n",
      "Finished downloading programs/20.03.01.pdf\n",
      "Finished downloading programs/20.03.02.pdf\n",
      "Finished downloading programs/21.03.01.pdf\n",
      "Finished downloading programs/21.03.02.pdf\n",
      "Finished downloading programs/21.03.03.pdf\n",
      "Finished downloading programs/22.03.01.pdf\n",
      "Finished downloading programs/22.03.02.pdf\n",
      "Finished downloading programs/23.03.01.pdf\n",
      "Finished downloading programs/23.03.02.pdf\n",
      "Finished downloading programs/23.03.03.pdf\n",
      "Finished downloading programs/24.03.01.pdf\n",
      "Finished downloading programs/24.03.02.pdf\n",
      "Finished downloading programs/24.03.03.pdf\n",
      "Finished downloading programs/24.03.04.pdf\n",
      "Finished downloading programs/24.03.05.pdf\n",
      "Finished downloading programs/25.03.01.pdf\n",
      "Finished downloading programs/25.03.02.pdf\n",
      "Finished downloading programs/25.03.03.pdf\n",
      "Finished downloading programs/25.03.04.pdf\n",
      "Finished downloading programs/26.03.01.pdf\n",
      "Finished downloading programs/26.03.02.pdf\n",
      "Finished downloading programs/26.03.03.pdf\n",
      "Finished downloading programs/27.03.01.pdf\n",
      "Finished downloading programs/27.03.02.pdf\n",
      "Finished downloading programs/27.03.03.pdf\n",
      "Finished downloading programs/27.03.04.pdf\n",
      "Finished downloading programs/27.03.05.pdf\n",
      "Finished downloading programs/28.03.01.pdf\n",
      "Finished downloading programs/28.03.02.pdf\n",
      "Finished downloading programs/28.03.03.pdf\n",
      "Finished downloading programs/29.03.01.pdf\n",
      "Finished downloading programs/29.03.02.pdf\n",
      "Finished downloading programs/29.03.03.pdf\n",
      "Finished downloading programs/29.03.04.pdf\n",
      "Finished downloading programs/29.03.05.pdf\n",
      "Finished downloading programs/34.03.01.pdf\n",
      "Finished downloading programs/35.03.01.pdf\n",
      "Finished downloading programs/35.03.02.pdf\n",
      "Finished downloading programs/35.03.03.pdf\n",
      "Finished downloading programs/35.03.04.pdf\n",
      "Finished downloading programs/35.03.05.pdf\n",
      "Finished downloading programs/35.03.06.pdf\n",
      "Finished downloading programs/35.03.07.pdf\n",
      "Finished downloading programs/35.03.08.pdf\n",
      "Finished downloading programs/35.03.09.pdf\n",
      "Finished downloading programs/35.03.10.pdf\n",
      "Finished downloading programs/36.03.01.pdf\n",
      "Finished downloading programs/36.03.02.pdf\n",
      "Finished downloading programs/37.03.01.pdf\n",
      "Finished downloading programs/37.03.02.pdf\n",
      "Finished downloading programs/38.03.01.pdf\n",
      "Finished downloading programs/38.03.02.pdf\n",
      "Finished downloading programs/38.03.03.pdf\n",
      "Finished downloading programs/38.03.04.pdf\n",
      "Finished downloading programs/38.03.05.pdf\n",
      "Finished downloading programs/38.03.06.pdf\n",
      "Finished downloading programs/38.03.07.pdf\n",
      "Finished downloading programs/38.03.10.pdf\n",
      "Finished downloading programs/38.04.03.pdf\n",
      "Finished downloading programs/39.03.01.pdf\n",
      "Finished downloading programs/39.03.02.pdf\n",
      "Finished downloading programs/39.03.03.pdf\n",
      "Finished downloading programs/40.03.01.pdf\n",
      "Finished downloading programs/41.03.01.pdf\n",
      "Finished downloading programs/41.03.04.pdf\n",
      "Finished downloading programs/41.03.05.pdf\n",
      "Finished downloading programs/41.03.06.pdf\n",
      "Finished downloading programs/42.03.01.pdf\n",
      "Finished downloading programs/42.03.02.pdf\n",
      "Finished downloading programs/42.03.03.pdf\n",
      "Finished downloading programs/42.03.04.pdf\n",
      "Finished downloading programs/42.03.05.pdf\n",
      "Finished downloading programs/43.03.01.pdf\n",
      "Finished downloading programs/43.03.02.pdf\n",
      "Finished downloading programs/43.03.03.pdf\n",
      "Finished downloading programs/44.03.01.pdf\n",
      "Finished downloading programs/44.03.02.pdf\n",
      "Finished downloading programs/44.03.03.pdf\n",
      "Finished downloading programs/44.03.04.pdf\n",
      "Finished downloading programs/44.03.05.pdf\n",
      "Finished downloading programs/45.03.01.pdf\n",
      "Finished downloading programs/45.03.02.pdf\n"
     ]
    },
    {
     "name": "stderr",
     "output_type": "stream",
     "text": [
      "176it [03:47,  1.29s/it]"
     ]
    },
    {
     "name": "stdout",
     "output_type": "stream",
     "text": [
      "Finished downloading programs/45.03.03.pdf\n",
      "Finished downloading programs/45.03.04.pdf\n",
      "Finished downloading programs/46.03.04.pdf\n",
      "Finished downloading programs/47.03.01.pdf\n",
      "Finished downloading programs/47.03.02.pdf\n",
      "Finished downloading programs/47.03.03.pdf\n",
      "Finished downloading programs/49.03.01.pdf\n",
      "Finished downloading programs/49.03.02.pdf\n",
      "Finished downloading programs/49.03.03.pdf\n",
      "Finished downloading programs/50.03.01.pdf\n",
      "Finished downloading programs/50.03.02.pdf\n",
      "Finished downloading programs/50.03.03.pdf\n",
      "Finished downloading programs/50.03.04.pdf\n",
      "Finished downloading programs/51.03.01.pdf\n",
      "Finished downloading programs/51.03.02.pdf\n",
      "Finished downloading programs/51.03.03.pdf\n",
      "Finished downloading programs/51.03.04.pdf\n",
      "Finished downloading programs/51.03.05.pdf\n",
      "Finished downloading programs/51.03.06.pdf\n",
      "Finished downloading programs/52.03.01.pdf\n",
      "Finished downloading programs/52.03.02.pdf\n",
      "Finished downloading programs/52.03.03.pdf\n",
      "Finished downloading programs/52.03.04.pdf\n",
      "Finished downloading programs/52.03.05.pdf\n",
      "Finished downloading programs/52.03.06.pdf\n",
      "Finished downloading programs/53.03.01.pdf\n",
      "Finished downloading programs/53.03.02.pdf\n",
      "Finished downloading programs/53.03.03.pdf\n",
      "Finished downloading programs/53.03.04.pdf\n",
      "Finished downloading programs/53.03.05.pdf\n",
      "Finished downloading programs/53.03.06.pdf\n",
      "Finished downloading programs/54.03.01.pdf\n",
      "Finished downloading programs/54.03.02.pdf\n",
      "Finished downloading programs/54.03.03.pdf\n",
      "Finished downloading programs/54.03.04.pdf\n",
      "CPU times: user 406 ms, sys: 213 ms, total: 619 ms\n",
      "Wall time: 3min 47s\n"
     ]
    },
    {
     "name": "stderr",
     "output_type": "stream",
     "text": [
      "\n"
     ]
    }
   ],
   "source": [
    "%%time\n",
    "\n",
    "def dl_pdf(code_and_url):\n",
    "    code, url = code_and_url\n",
    "    dst_path = os.path.join('programs', code + '.pdf')\n",
    "    if not os.path.exists('programs'):\n",
    "        os.mkdir('programs')\n",
    "    with open(dst_path, 'wb') as out, requests.get(url, stream=True) as rsp:\n",
    "        out.write(b'')\n",
    "        for chunk in rsp.iter_content(1024):\n",
    "            out.write(chunk)\n",
    "    return dst_path\n",
    "\n",
    "with Pool(5) as pool:\n",
    "    downloaded = pool.imap(dl_pdf, pdflist)\n",
    "    for d in tqdm.tqdm(downloaded):\n",
    "        print('Finished downloading {}'.format(d))"
   ]
  },
  {
   "cell_type": "markdown",
   "metadata": {},
   "source": [
    "Not going to validate, will assume it's all ok"
   ]
  },
  {
   "cell_type": "markdown",
   "metadata": {},
   "source": [
    "* * *"
   ]
  },
  {
   "cell_type": "markdown",
   "metadata": {},
   "source": [
    "There are some problems with running `ghostscript` in conda/jupyter under firejail and `camelot-py` (which I'm using to extract tables) heavily depends on it, so there's `extract_fgosvo.py` in the project root which can be run outside conda enviroment. It's got a number of rather shameful hacks, takes a while to run, and needs increased `ulimit -n`."
   ]
  },
  {
   "cell_type": "code",
   "execution_count": null,
   "metadata": {},
   "outputs": [],
   "source": []
  }
 ],
 "metadata": {
  "kernelspec": {
   "display_name": "Python 3",
   "language": "python",
   "name": "python3"
  },
  "language_info": {
   "codemirror_mode": {
    "name": "ipython",
    "version": 3
   },
   "file_extension": ".py",
   "mimetype": "text/x-python",
   "name": "python",
   "nbconvert_exporter": "python",
   "pygments_lexer": "ipython3",
   "version": "3.6.8"
  }
 },
 "nbformat": 4,
 "nbformat_minor": 2
}
