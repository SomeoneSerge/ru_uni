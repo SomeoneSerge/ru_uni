{
 "cells": [
  {
   "cell_type": "code",
   "execution_count": 2,
   "metadata": {},
   "outputs": [],
   "source": [
    "import nltk\n",
    "import numpy as np\n",
    "import pandas as pd"
   ]
  },
  {
   "cell_type": "markdown",
   "metadata": {},
   "source": [
    "1. [ ] checkout [OKSO](https://classifikators.ru/okso);\n",
    "1. [ ] compare plain distances from \"mathematics\" to \"IT\", \"javascript\", etc and to, say, \"machinist\";\n",
    "1. [ ] try manually specifying some skills as dependencies for some jobs and training a net which takes two word embeddings and answers whether one is a dependency for the other;\n",
    "1. [ ] this isn't going to work out of the box; research what's needed to tune it\n",
    "1. [ ] datasets available that can be used for adjusting the model?\n",
    "    - https://www.kaggle.com/niyamatalmass/google-job-skills\n",
    "    - https://www.kaggle.com/madhab/jobposts\n",
    "    - https://www.reddit.com/r/dataisbeautiful/comments/25qjpz/how_many_employees_are_moving_between_companies_oc/chjvd0g/\n",
    "    - https://github.com/hhru/api"
   ]
  },
  {
   "cell_type": "code",
   "execution_count": 4,
   "metadata": {},
   "outputs": [],
   "source": [
    "from nltk.corpus import wordnet as wn"
   ]
  },
  {
   "cell_type": "code",
   "execution_count": 5,
   "metadata": {},
   "outputs": [
    {
     "data": {
      "text/plain": [
       "<WordNetCorpusReader in '.../corpora/wordnet' (not loaded yet)>"
      ]
     },
     "execution_count": 5,
     "metadata": {},
     "output_type": "execute_result"
    }
   ],
   "source": []
  },
  {
   "cell_type": "code",
   "execution_count": null,
   "metadata": {},
   "outputs": [],
   "source": []
  }
 ],
 "metadata": {
  "kernelspec": {
   "display_name": "Python 3",
   "language": "python",
   "name": "python3"
  },
  "language_info": {
   "codemirror_mode": {
    "name": "ipython",
    "version": 3
   },
   "file_extension": ".py",
   "mimetype": "text/x-python",
   "name": "python",
   "nbconvert_exporter": "python",
   "pygments_lexer": "ipython3",
   "version": "3.6.8"
  }
 },
 "nbformat": 4,
 "nbformat_minor": 2
}
