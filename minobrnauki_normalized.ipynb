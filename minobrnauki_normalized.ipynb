{
 "cells": [
  {
   "cell_type": "code",
   "execution_count": 1,
   "metadata": {},
   "outputs": [],
   "source": [
    "import numpy as np\n",
    "import pandas as pd\n",
    "import matplotlib.pyplot as plt\n",
    "import os\n",
    "import requests\n",
    "import contextlib\n",
    "import functools\n",
    "import itertools\n",
    "import collections\n",
    "import pprint\n",
    "import glob\n",
    "import xlrd\n",
    "import re\n",
    "import typing\n",
    "\n",
    "plt.ion()"
   ]
  },
  {
   "cell_type": "code",
   "execution_count": 2,
   "metadata": {},
   "outputs": [
    {
     "name": "stdout",
     "output_type": "stream",
     "text": [
      "Collecting git+https://github.com/newkozlukov/PyVPO1\n",
      "  Cloning https://github.com/newkozlukov/PyVPO1 to /tmp/pip-req-build-ksyuqads\n",
      "  Running command git clone -q https://github.com/newkozlukov/PyVPO1 /tmp/pip-req-build-ksyuqads\n",
      "  warning: templates not found in /usr/share/git-core/templates\n",
      "Building wheels for collected packages: PyVPO1\n",
      "  Building wheel for PyVPO1 (setup.py) ... \u001b[?25ldone\n",
      "\u001b[?25h  Stored in directory: /tmp/pip-ephem-wheel-cache-46cs3yf8/wheels/39/9b/15/815809511e7de73856795f9e9fdcce931484aa099a2eb82815\n",
      "Successfully built PyVPO1\n",
      "Installing collected packages: PyVPO1\n",
      "Successfully installed PyVPO1-0.0.0\n"
     ]
    }
   ],
   "source": [
    "! pip install --no-deps -I git+https://github.com/newkozlukov/PyVPO1"
   ]
  },
  {
   "cell_type": "code",
   "execution_count": 3,
   "metadata": {},
   "outputs": [
    {
     "data": {
      "text/plain": [
       "<module 'vpo1' from '/home/nk/.conda/lib/python3.6/site-packages/vpo1/__init__.py'>"
      ]
     },
     "execution_count": 3,
     "metadata": {},
     "output_type": "execute_result"
    }
   ],
   "source": [
    "import importlib\n",
    "import vpo1\n",
    "importlib.reload(vpo1)"
   ]
  },
  {
   "cell_type": "code",
   "execution_count": 4,
   "metadata": {},
   "outputs": [],
   "source": [
    "vpo1s = vpo1.VPO1Set('.')"
   ]
  },
  {
   "cell_type": "code",
   "execution_count": 5,
   "metadata": {},
   "outputs": [
    {
     "data": {
      "text/plain": [
       "['./СВОД_ВПО1_НЕГОС_аттестация экстернов.xls', './СВОД_ВПО1_НЕГОС_очная.xls']"
      ]
     },
     "execution_count": 5,
     "metadata": {},
     "output_type": "execute_result"
    }
   ],
   "source": [
    "vpo1s.files[:2]"
   ]
  },
  {
   "cell_type": "code",
   "execution_count": 6,
   "metadata": {},
   "outputs": [
    {
     "data": {
      "text/plain": [
       "'2.1.2. Распределение численности студентов по курсам, направлениям подготовки и специальностям'"
      ]
     },
     "execution_count": 6,
     "metadata": {},
     "output_type": "execute_result"
    }
   ],
   "source": [
    "vpo1s.get_vpo1('Воронежская область', 'ГОС', 'очная').sheets[2].name"
   ]
  },
  {
   "cell_type": "code",
   "execution_count": 7,
   "metadata": {},
   "outputs": [
    {
     "ename": "ModuleNotFoundError",
     "evalue": "No module named 'vpo1.vpo1_fsm'",
     "output_type": "error",
     "traceback": [
      "\u001b[0;31m---------------------------------------------------------------------------\u001b[0m",
      "\u001b[0;31mModuleNotFoundError\u001b[0m                       Traceback (most recent call last)",
      "\u001b[0;32m<ipython-input-7-9fa74243ef9e>\u001b[0m in \u001b[0;36m<module>\u001b[0;34m\u001b[0m\n\u001b[0;32m----> 1\u001b[0;31m \u001b[0;32mimport\u001b[0m \u001b[0mvpo1\u001b[0m\u001b[0;34m.\u001b[0m\u001b[0mvpo1_fsm\u001b[0m\u001b[0;34m\u001b[0m\u001b[0;34m\u001b[0m\u001b[0m\n\u001b[0m",
      "\u001b[0;31mModuleNotFoundError\u001b[0m: No module named 'vpo1.vpo1_fsm'"
     ]
    }
   ],
   "source": [
    "import vpo1.vpo1_fsm"
   ]
  },
  {
   "cell_type": "code",
   "execution_count": null,
   "metadata": {},
   "outputs": [],
   "source": []
  }
 ],
 "metadata": {
  "kernelspec": {
   "display_name": "Python 3",
   "language": "python",
   "name": "python3"
  },
  "language_info": {
   "codemirror_mode": {
    "name": "ipython",
    "version": 3
   },
   "file_extension": ".py",
   "mimetype": "text/x-python",
   "name": "python",
   "nbconvert_exporter": "python",
   "pygments_lexer": "ipython3",
   "version": "3.6.8"
  }
 },
 "nbformat": 4,
 "nbformat_minor": 2
}
