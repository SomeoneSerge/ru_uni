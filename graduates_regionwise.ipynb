{
 "cells": [
  {
   "cell_type": "code",
   "execution_count": 61,
   "metadata": {},
   "outputs": [],
   "source": [
    "import pymongo\n",
    "import pandas as pd\n",
    "import itertools\n",
    "import csv\n",
    "import tqdm\n",
    "\n",
    "OUTFILE = 'graduates.csv'"
   ]
  },
  {
   "cell_type": "code",
   "execution_count": 62,
   "metadata": {},
   "outputs": [],
   "source": [
    "client = pymongo.MongoClient()\n",
    "db = client['uni']"
   ]
  },
  {
   "cell_type": "code",
   "execution_count": 69,
   "metadata": {},
   "outputs": [],
   "source": [
    "def get_graduates(vpo1_collection):\n",
    "    return vpo1_collection.aggregate(\n",
    "        pipeline=[\n",
    "    {\n",
    "        '$match': {\n",
    "            'section': '2.1.3'\n",
    "        }\n",
    "    }, {\n",
    "        '$project': {\n",
    "            'rows': 0\n",
    "        }\n",
    "    }, {\n",
    "        '$unwind': {\n",
    "            'path': '$columns', \n",
    "            'preserveNullAndEmptyArrays': False\n",
    "        }\n",
    "    }, {\n",
    "        '$match': {\n",
    "            'columns.name': {\n",
    "                '$regex': 'Выпуск фактический.*'\n",
    "            }\n",
    "        }\n",
    "    }, {\n",
    "        '$unwind': {\n",
    "            'path': '$columns.records', \n",
    "            'preserveNullAndEmptyArrays': False\n",
    "        }\n",
    "    }, {\n",
    "        '$project': {\n",
    "            'region': 1, \n",
    "            'funded_by': 1, \n",
    "            'time_involvement': 1, \n",
    "            # 'section': 1, \n",
    "            # 'section_name': 1, \n",
    "            'colname': '$columns.name', \n",
    "            'group': '$columns.records.group', \n",
    "            'program': '$columns.records.name', \n",
    "            'value': '$columns.records.value'\n",
    "        }\n",
    "    }\n",
    "])"
   ]
  },
  {
   "cell_type": "code",
   "execution_count": 70,
   "metadata": {},
   "outputs": [
    {
     "data": {
      "text/plain": [
       "['region', 'funded_by', 'time_involvement', 'colname', 'program', 'value']"
      ]
     },
     "execution_count": 70,
     "metadata": {},
     "output_type": "execute_result"
    }
   ],
   "source": [
    "fieldnames = list(next(get_graduates(db.vpo1)).keys())\n",
    "fieldnames.remove('_id')\n",
    "fieldnames.remove('group')\n",
    "fieldnames"
   ]
  },
  {
   "cell_type": "code",
   "execution_count": 71,
   "metadata": {},
   "outputs": [
    {
     "name": "stderr",
     "output_type": "stream",
     "text": [
      "56478it [00:03, 18804.28it/s]\n"
     ]
    }
   ],
   "source": [
    "with open(OUTFILE, 'w', newline='') as f:\n",
    "    f.truncate(0)\n",
    "    writer = csv.DictWriter(f, fieldnames=fieldnames, dialect='unix')\n",
    "    writer.writeheader()\n",
    "    for record in tqdm.tqdm(get_graduates(db.vpo1)):\n",
    "        record['program'] = '{}. {}'.format(record['group'], record['program'])\n",
    "        for k in list(record.keys()):\n",
    "            if k not in fieldnames:\n",
    "                del record[k]\n",
    "        writer.writerow(record)"
   ]
  },
  {
   "cell_type": "code",
   "execution_count": 72,
   "metadata": {},
   "outputs": [
    {
     "data": {
      "text/html": [
       "<div>\n",
       "<style scoped>\n",
       "    .dataframe tbody tr th:only-of-type {\n",
       "        vertical-align: middle;\n",
       "    }\n",
       "\n",
       "    .dataframe tbody tr th {\n",
       "        vertical-align: top;\n",
       "    }\n",
       "\n",
       "    .dataframe thead th {\n",
       "        text-align: right;\n",
       "    }\n",
       "</style>\n",
       "<table border=\"1\" class=\"dataframe\">\n",
       "  <thead>\n",
       "    <tr style=\"text-align: right;\">\n",
       "      <th></th>\n",
       "      <th>region</th>\n",
       "      <th>funded_by</th>\n",
       "      <th>time_involvement</th>\n",
       "      <th>colname</th>\n",
       "      <th>program</th>\n",
       "      <th>value</th>\n",
       "    </tr>\n",
       "  </thead>\n",
       "  <tbody>\n",
       "    <tr>\n",
       "      <th>0</th>\n",
       "      <td>Российская Федерация</td>\n",
       "      <td>Частные</td>\n",
       "      <td>аттестация экстернов</td>\n",
       "      <td>Выпуск фактический с 01.10. прошлого года по 3...</td>\n",
       "      <td>1. Программы бакалавриата - всего</td>\n",
       "      <td>2232.0</td>\n",
       "    </tr>\n",
       "    <tr>\n",
       "      <th>1</th>\n",
       "      <td>Российская Федерация</td>\n",
       "      <td>Частные</td>\n",
       "      <td>аттестация экстернов</td>\n",
       "      <td>Выпуск фактический с 01.10. прошлого года по 3...</td>\n",
       "      <td>1. Информатика и вычислительная техника</td>\n",
       "      <td>44.0</td>\n",
       "    </tr>\n",
       "    <tr>\n",
       "      <th>2</th>\n",
       "      <td>Российская Федерация</td>\n",
       "      <td>Частные</td>\n",
       "      <td>аттестация экстернов</td>\n",
       "      <td>Выпуск фактический с 01.10. прошлого года по 3...</td>\n",
       "      <td>1. Психология</td>\n",
       "      <td>1.0</td>\n",
       "    </tr>\n",
       "    <tr>\n",
       "      <th>3</th>\n",
       "      <td>Российская Федерация</td>\n",
       "      <td>Частные</td>\n",
       "      <td>аттестация экстернов</td>\n",
       "      <td>Выпуск фактический с 01.10. прошлого года по 3...</td>\n",
       "      <td>1. Экономика</td>\n",
       "      <td>371.0</td>\n",
       "    </tr>\n",
       "    <tr>\n",
       "      <th>4</th>\n",
       "      <td>Российская Федерация</td>\n",
       "      <td>Частные</td>\n",
       "      <td>аттестация экстернов</td>\n",
       "      <td>Выпуск фактический с 01.10. прошлого года по 3...</td>\n",
       "      <td>1. Менеджмент</td>\n",
       "      <td>495.0</td>\n",
       "    </tr>\n",
       "  </tbody>\n",
       "</table>\n",
       "</div>"
      ],
      "text/plain": [
       "                 region funded_by      time_involvement  \\\n",
       "0  Российская Федерация   Частные  аттестация экстернов   \n",
       "1  Российская Федерация   Частные  аттестация экстернов   \n",
       "2  Российская Федерация   Частные  аттестация экстернов   \n",
       "3  Российская Федерация   Частные  аттестация экстернов   \n",
       "4  Российская Федерация   Частные  аттестация экстернов   \n",
       "\n",
       "                                             colname  \\\n",
       "0  Выпуск фактический с 01.10. прошлого года по 3...   \n",
       "1  Выпуск фактический с 01.10. прошлого года по 3...   \n",
       "2  Выпуск фактический с 01.10. прошлого года по 3...   \n",
       "3  Выпуск фактический с 01.10. прошлого года по 3...   \n",
       "4  Выпуск фактический с 01.10. прошлого года по 3...   \n",
       "\n",
       "                                   program   value  \n",
       "0        1. Программы бакалавриата - всего  2232.0  \n",
       "1  1. Информатика и вычислительная техника    44.0  \n",
       "2                            1. Психология     1.0  \n",
       "3                             1. Экономика   371.0  \n",
       "4                            1. Менеджмент   495.0  "
      ]
     },
     "execution_count": 72,
     "metadata": {},
     "output_type": "execute_result"
    }
   ],
   "source": [
    "df = pd.read_csv(OUTFILE)\n",
    "df.head()"
   ]
  },
  {
   "cell_type": "code",
   "execution_count": 73,
   "metadata": {},
   "outputs": [
    {
     "data": {
      "text/html": [
       "<div>\n",
       "<style scoped>\n",
       "    .dataframe tbody tr th:only-of-type {\n",
       "        vertical-align: middle;\n",
       "    }\n",
       "\n",
       "    .dataframe tbody tr th {\n",
       "        vertical-align: top;\n",
       "    }\n",
       "\n",
       "    .dataframe thead th {\n",
       "        text-align: right;\n",
       "    }\n",
       "</style>\n",
       "<table border=\"1\" class=\"dataframe\">\n",
       "  <thead>\n",
       "    <tr style=\"text-align: right;\">\n",
       "      <th></th>\n",
       "      <th>region</th>\n",
       "      <th>funded_by</th>\n",
       "      <th>time_involvement</th>\n",
       "      <th>colname</th>\n",
       "      <th>program</th>\n",
       "      <th>value</th>\n",
       "    </tr>\n",
       "  </thead>\n",
       "  <tbody>\n",
       "    <tr>\n",
       "      <th>419</th>\n",
       "      <td>Российская Федерация</td>\n",
       "      <td>Всего</td>\n",
       "      <td>очная</td>\n",
       "      <td>Выпуск фактический с 01.10. прошлого года по 3...</td>\n",
       "      <td>1. Математика</td>\n",
       "      <td>463.0</td>\n",
       "    </tr>\n",
       "    <tr>\n",
       "      <th>933</th>\n",
       "      <td>Российская Федерация</td>\n",
       "      <td>Всего</td>\n",
       "      <td>очная</td>\n",
       "      <td>Выпуск фактический с 01.10. прошлого года по 3...</td>\n",
       "      <td>1. Математика</td>\n",
       "      <td>4.0</td>\n",
       "    </tr>\n",
       "    <tr>\n",
       "      <th>2855</th>\n",
       "      <td>Российская Федерация</td>\n",
       "      <td>Всего</td>\n",
       "      <td>очно-заочная</td>\n",
       "      <td>Выпуск фактический с 01.10. прошлого года по 3...</td>\n",
       "      <td>1. Математика</td>\n",
       "      <td>18.0</td>\n",
       "    </tr>\n",
       "    <tr>\n",
       "      <th>3157</th>\n",
       "      <td>Российская Федерация</td>\n",
       "      <td>Всего</td>\n",
       "      <td>очно-заочная</td>\n",
       "      <td>Выпуск фактический с 01.10. прошлого года по 3...</td>\n",
       "      <td>1. Математика</td>\n",
       "      <td>0.0</td>\n",
       "    </tr>\n",
       "    <tr>\n",
       "      <th>3799</th>\n",
       "      <td>Российская Федерация</td>\n",
       "      <td>Государственные, Муниципальные</td>\n",
       "      <td>очная</td>\n",
       "      <td>Выпуск фактический с 01.10. прошлого года по 3...</td>\n",
       "      <td>1. Математика</td>\n",
       "      <td>463.0</td>\n",
       "    </tr>\n",
       "  </tbody>\n",
       "</table>\n",
       "</div>"
      ],
      "text/plain": [
       "                    region                       funded_by time_involvement  \\\n",
       "419   Российская Федерация                           Всего            очная   \n",
       "933   Российская Федерация                           Всего            очная   \n",
       "2855  Российская Федерация                           Всего     очно-заочная   \n",
       "3157  Российская Федерация                           Всего     очно-заочная   \n",
       "3799  Российская Федерация  Государственные, Муниципальные            очная   \n",
       "\n",
       "                                                colname        program  value  \n",
       "419   Выпуск фактический с 01.10. прошлого года по 3...  1. Математика  463.0  \n",
       "933   Выпуск фактический с 01.10. прошлого года по 3...  1. Математика    4.0  \n",
       "2855  Выпуск фактический с 01.10. прошлого года по 3...  1. Математика   18.0  \n",
       "3157  Выпуск фактический с 01.10. прошлого года по 3...  1. Математика    0.0  \n",
       "3799  Выпуск фактический с 01.10. прошлого года по 3...  1. Математика  463.0  "
      ]
     },
     "execution_count": 73,
     "metadata": {},
     "output_type": "execute_result"
    }
   ],
   "source": [
    "df[df['program'] == '1. Математика'].head()"
   ]
  },
  {
   "cell_type": "code",
   "execution_count": 74,
   "metadata": {},
   "outputs": [
    {
     "data": {
      "text/plain": [
       "array(['Выпуск фактический с 01.10. прошлого года по 30.09. текущего года всего (сумма гр. 10, 12, 13, 15)',\n",
       "       'Выпуск фактический с 01.10. прошлого года по 30.09. текущего года из них лица с ОВЗ, инвалиды, детиинвалиды'],\n",
       "      dtype=object)"
      ]
     },
     "execution_count": 74,
     "metadata": {},
     "output_type": "execute_result"
    }
   ],
   "source": [
    "df['colname'].unique()"
   ]
  },
  {
   "cell_type": "code",
   "execution_count": null,
   "metadata": {},
   "outputs": [],
   "source": []
  }
 ],
 "metadata": {
  "kernelspec": {
   "display_name": "Python 3",
   "language": "python",
   "name": "python3"
  },
  "language_info": {
   "codemirror_mode": {
    "name": "ipython",
    "version": 3
   },
   "file_extension": ".py",
   "mimetype": "text/x-python",
   "name": "python",
   "nbconvert_exporter": "python",
   "pygments_lexer": "ipython3",
   "version": "3.6.8"
  }
 },
 "nbformat": 4,
 "nbformat_minor": 2
}
