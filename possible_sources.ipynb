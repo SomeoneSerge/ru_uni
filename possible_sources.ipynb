{
 "cells": [
  {
   "cell_type": "code",
   "execution_count": 1,
   "metadata": {},
   "outputs": [],
   "source": [
    "import numpy as np\n",
    "import pandas as pd\n",
    "import matplotlib.pyplot as plt\n",
    "\n",
    "plt.ion()"
   ]
  },
  {
   "cell_type": "code",
   "execution_count": 34,
   "metadata": {},
   "outputs": [],
   "source": [
    "import os\n",
    "import requests\n",
    "import contextlib\n",
    "import functools"
   ]
  },
  {
   "cell_type": "code",
   "execution_count": 73,
   "metadata": {},
   "outputs": [],
   "source": [
    "def file_or_nothing(download_fn):\n",
    "    @functools.wraps(download_fn)\n",
    "    def wrapped(name, *args, **kwargs):\n",
    "        cache_path = os.path.join('data', name)\n",
    "        cached = os.path.exists(cache_path)\n",
    "        try:\n",
    "            return download_fn(name, *args, **kwargs)\n",
    "        except:\n",
    "            if not cached and os.path.exists(cache_path):\n",
    "                os.remove(os.path.join(cache_path))\n",
    "            else:\n",
    "                print('failed but not cleaning up')\n",
    "    return wrapped\n",
    "\n",
    "\n",
    "@file_or_nothing\n",
    "@contextlib.contextmanager\n",
    "def remote_binary(name, url=None):\n",
    "    if not os.path.exists('data'):\n",
    "        os.mkdir('data')\n",
    "    cache_path = os.path.join('data', name)\n",
    "    cached = os.path.exists(cache_path)\n",
    "    assert cached or url is not None\n",
    "    if not cached:\n",
    "        with open(cache_path, 'wb') as f, requests.get(url, stream=True) as r:\n",
    "            for chunk in r.iter_content(chunk_size=4096):\n",
    "                f.write(chunk)\n",
    "    with open(cache_path, mode='rb') as f:\n",
    "        yield f\n",
    "        \n",
    "        \n",
    "@file_or_nothing\n",
    "@contextlib.contextmanager\n",
    "def remote_text(name, enc='utf8', url=None):\n",
    "    if not os.path.exists('data'):\n",
    "        os.mkdir('data')\n",
    "    cache_path = os.path.join('data', name)\n",
    "    cached = os.path.exists(cache_path)\n",
    "    assert cached or url is not None\n",
    "    if not cached:\n",
    "        with open(cache_path, 'w') as f, requests.get(url, stream=True) as r:\n",
    "            r.encoding = enc\n",
    "            for chunk in r.iter_lines(chunk_size=10000, decode_unicode=True):\n",
    "                f.write(chunk)\n",
    "                f.write('\\n')\n",
    "    with open(cache_path, mode='r') as f:\n",
    "        yield f"
   ]
  },
  {
   "cell_type": "code",
   "execution_count": 74,
   "metadata": {},
   "outputs": [],
   "source": [
    "# http://obrnadzor.gov.ru/ru/opendata/7701537808-PODVED/\n",
    "with remote_text(\n",
    "        'podved_1',\n",
    "        enc='cp1251',\n",
    "        url='http://obrnadzor.gov.ru/common/upload/opendata/7701537808-PODVED/data-20150325-structure-20150325.csv') as f:\n",
    "    podved_1 = pd.read_csv(f)\n",
    "\n",
    "with remote_text(\n",
    "    'podved_2',\n",
    "    enc='cp1251',\n",
    "    url='http://obrnadzor.gov.ru/common/upload/opendata/7701537808-PODVED/data-20141208-structure-20141208.csv') as f:\n",
    "    podved_2 = pd.read_csv(f, sep=';')\n",
    "    "
   ]
  },
  {
   "cell_type": "code",
   "execution_count": 89,
   "metadata": {},
   "outputs": [
    {
     "data": {
      "text/html": [
       "<div>\n",
       "<style scoped>\n",
       "    .dataframe tbody tr th:only-of-type {\n",
       "        vertical-align: middle;\n",
       "    }\n",
       "\n",
       "    .dataframe tbody tr th {\n",
       "        vertical-align: top;\n",
       "    }\n",
       "\n",
       "    .dataframe thead th {\n",
       "        text-align: right;\n",
       "    }\n",
       "</style>\n",
       "<table border=\"1\" class=\"dataframe\">\n",
       "  <thead>\n",
       "    <tr style=\"text-align: right;\">\n",
       "      <th></th>\n",
       "      <th>name</th>\n",
       "      <th>site</th>\n",
       "    </tr>\n",
       "  </thead>\n",
       "  <tbody>\n",
       "    <tr>\n",
       "      <th>0</th>\n",
       "      <td>ФГБНУ «Федеральный институт педагогических изм...</td>\n",
       "      <td>new.fipi.ru</td>\n",
       "    </tr>\n",
       "    <tr>\n",
       "      <th>1</th>\n",
       "      <td>ФГБУ «Федеральный центр тестирования»</td>\n",
       "      <td>http://www.rustest.ru/</td>\n",
       "    </tr>\n",
       "    <tr>\n",
       "      <th>2</th>\n",
       "      <td>ФГБНУ «Главный государственный экспертный цент...</td>\n",
       "      <td>http://www.nic.gov.ru/</td>\n",
       "    </tr>\n",
       "    <tr>\n",
       "      <th>3</th>\n",
       "      <td>ФГБУ «Национальное аккредитационное агентство ...</td>\n",
       "      <td>www.nica.ru</td>\n",
       "    </tr>\n",
       "    <tr>\n",
       "      <th>4</th>\n",
       "      <td>ФГБУ «Информационно-методический центр анализа»</td>\n",
       "      <td>www.imtsa.ru</td>\n",
       "    </tr>\n",
       "  </tbody>\n",
       "</table>\n",
       "</div>"
      ],
      "text/plain": [
       "                                                name                     site\n",
       "0  ФГБНУ «Федеральный институт педагогических изм...              new.fipi.ru\n",
       "1              ФГБУ «Федеральный центр тестирования»   http://www.rustest.ru/\n",
       "2  ФГБНУ «Главный государственный экспертный цент...  http://www.nic.gov.ru/ \n",
       "3  ФГБУ «Национальное аккредитационное агентство ...              www.nica.ru\n",
       "4    ФГБУ «Информационно-методический центр анализа»             www.imtsa.ru"
      ]
     },
     "execution_count": 89,
     "metadata": {},
     "output_type": "execute_result"
    }
   ],
   "source": [
    "podved_1[['name', 'site']]"
   ]
  },
  {
   "cell_type": "code",
   "execution_count": null,
   "metadata": {},
   "outputs": [
    {
     "name": "stdout",
     "output_type": "stream",
     "text": [
      "--2019-06-07 07:42:51--  http://isga.obrnadzor.gov.ru/accredreestr/opendata/\n",
      "Resolving isga.obrnadzor.gov.ru (isga.obrnadzor.gov.ru)... 176.99.141.18\n",
      "Connecting to isga.obrnadzor.gov.ru (isga.obrnadzor.gov.ru)|176.99.141.18|:80... connected.\n",
      "HTTP request sent, awaiting response... 200 OK\n",
      "Length: 72541151 (69M) [application/zip]\n",
      "Saving to: ‘open_data.zip’\n",
      "\n",
      "open_data.zip        27%[====>               ]  18.82M  63.3KB/s    eta 8m 3s  "
     ]
    }
   ],
   "source": [
    "! wget -c http://isga.obrnadzor.gov.ru/accredreestr/opendata/ -O open_data.zip"
   ]
  },
  {
   "cell_type": "code",
   "execution_count": null,
   "metadata": {},
   "outputs": [],
   "source": []
  }
 ],
 "metadata": {
  "kernelspec": {
   "display_name": "Python 3",
   "language": "python",
   "name": "python3"
  },
  "language_info": {
   "codemirror_mode": {
    "name": "ipython",
    "version": 3
   },
   "file_extension": ".py",
   "mimetype": "text/x-python",
   "name": "python",
   "nbconvert_exporter": "python",
   "pygments_lexer": "ipython3",
   "version": "3.6.8"
  }
 },
 "nbformat": 4,
 "nbformat_minor": 2
}
